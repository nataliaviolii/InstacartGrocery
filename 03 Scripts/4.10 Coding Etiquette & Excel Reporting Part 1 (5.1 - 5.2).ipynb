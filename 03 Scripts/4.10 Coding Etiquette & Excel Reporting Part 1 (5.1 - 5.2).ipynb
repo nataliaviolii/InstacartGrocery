{
 "cells": [
  {
   "cell_type": "markdown",
   "id": "3d211c65",
   "metadata": {},
   "source": [
    "### Contents:\n",
    "5. Customer Profiling. Create a profiling variable based on:\n",
    "- 5.1 Customer Profiling: Age\n",
    "- 5.2 Customer Profiling: Income\n",
    "- 5.3 Customer Profiling: Certain goods in the “department_id” column\n",
    "- 5.4 Customer Profiling: Number of dependants\n",
    "- 5.5 Profiling the Ordering Time"
   ]
  },
  {
   "cell_type": "markdown",
   "id": "5189d15a",
   "metadata": {},
   "source": [
    "### 1. Import libraries and data"
   ]
  },
  {
   "cell_type": "code",
   "execution_count": 1,
   "id": "80e36dc6",
   "metadata": {},
   "outputs": [],
   "source": [
    "# Import libraries\n",
    "\n",
    "import pandas as pd\n",
    "import numpy as np\n",
    "import os\n",
    "import matplotlib.pyplot as plt\n",
    "import seaborn as sns\n",
    "import scipy"
   ]
  },
  {
   "cell_type": "code",
   "execution_count": 2,
   "id": "50c345c2",
   "metadata": {},
   "outputs": [],
   "source": [
    "# Define path\n",
    "\n",
    "path = r'C:\\Users\\Windows 10\\Documents\\04-2023 Instacart Basket Analysis'"
   ]
  },
  {
   "cell_type": "code",
   "execution_count": 3,
   "id": "a94e37b6",
   "metadata": {},
   "outputs": [],
   "source": [
    "# Import data\n",
    "http://localhost:8888/notebooks/Documents/04-2023%20Instacart%20Basket%20Analysis/03%20Scripts/4.10%20Coding%20Etiquette%20%26%20Excel%20Reporting%20Part%201%20(5.1%20-%205.2).ipynb#\n",
    "df_project_all = pd.read_pickle(os.path.join(path, '02 Data', 'Prepared Data', 'orders_products_customers.pkl'))"
   ]
  },
  {
   "cell_type": "code",
   "execution_count": 4,
   "id": "9ccd88a9",
   "metadata": {},
   "outputs": [
    {
     "data": {
      "text/html": [
       "<div>\n",
       "<style scoped>\n",
       "    .dataframe tbody tr th:only-of-type {\n",
       "        vertical-align: middle;\n",
       "    }\n",
       "\n",
       "    .dataframe tbody tr th {\n",
       "        vertical-align: top;\n",
       "    }\n",
       "\n",
       "    .dataframe thead th {\n",
       "        text-align: right;\n",
       "    }\n",
       "</style>\n",
       "<table border=\"1\" class=\"dataframe\">\n",
       "  <thead>\n",
       "    <tr style=\"text-align: right;\">\n",
       "      <th></th>\n",
       "      <th>order_id</th>\n",
       "      <th>user_id</th>\n",
       "      <th>order_number</th>\n",
       "      <th>orders_day_of_week</th>\n",
       "      <th>order_hour_of_day</th>\n",
       "      <th>days_since_prior_order</th>\n",
       "      <th>product_id</th>\n",
       "      <th>add_to_cart_order</th>\n",
       "      <th>reordered</th>\n",
       "      <th>product_name</th>\n",
       "      <th>...</th>\n",
       "      <th>spending_flag</th>\n",
       "      <th>median_prior_orders</th>\n",
       "      <th>order_frequency_flag</th>\n",
       "      <th>gender</th>\n",
       "      <th>state</th>\n",
       "      <th>age</th>\n",
       "      <th>date_joined</th>\n",
       "      <th>dependants_number</th>\n",
       "      <th>family_status</th>\n",
       "      <th>income</th>\n",
       "    </tr>\n",
       "  </thead>\n",
       "  <tbody>\n",
       "    <tr>\n",
       "      <th>0</th>\n",
       "      <td>2539329</td>\n",
       "      <td>1</td>\n",
       "      <td>1</td>\n",
       "      <td>2</td>\n",
       "      <td>8</td>\n",
       "      <td>NaN</td>\n",
       "      <td>196</td>\n",
       "      <td>1</td>\n",
       "      <td>0</td>\n",
       "      <td>Soda</td>\n",
       "      <td>...</td>\n",
       "      <td>Low spender</td>\n",
       "      <td>20.5</td>\n",
       "      <td>Non-frequent customer</td>\n",
       "      <td>Female</td>\n",
       "      <td>Alabama</td>\n",
       "      <td>31</td>\n",
       "      <td>2/17/2019</td>\n",
       "      <td>3</td>\n",
       "      <td>married</td>\n",
       "      <td>40423</td>\n",
       "    </tr>\n",
       "    <tr>\n",
       "      <th>1</th>\n",
       "      <td>2398795</td>\n",
       "      <td>1</td>\n",
       "      <td>2</td>\n",
       "      <td>3</td>\n",
       "      <td>7</td>\n",
       "      <td>15.0</td>\n",
       "      <td>196</td>\n",
       "      <td>1</td>\n",
       "      <td>1</td>\n",
       "      <td>Soda</td>\n",
       "      <td>...</td>\n",
       "      <td>Low spender</td>\n",
       "      <td>20.5</td>\n",
       "      <td>Non-frequent customer</td>\n",
       "      <td>Female</td>\n",
       "      <td>Alabama</td>\n",
       "      <td>31</td>\n",
       "      <td>2/17/2019</td>\n",
       "      <td>3</td>\n",
       "      <td>married</td>\n",
       "      <td>40423</td>\n",
       "    </tr>\n",
       "    <tr>\n",
       "      <th>2</th>\n",
       "      <td>473747</td>\n",
       "      <td>1</td>\n",
       "      <td>3</td>\n",
       "      <td>3</td>\n",
       "      <td>12</td>\n",
       "      <td>21.0</td>\n",
       "      <td>196</td>\n",
       "      <td>1</td>\n",
       "      <td>1</td>\n",
       "      <td>Soda</td>\n",
       "      <td>...</td>\n",
       "      <td>Low spender</td>\n",
       "      <td>20.5</td>\n",
       "      <td>Non-frequent customer</td>\n",
       "      <td>Female</td>\n",
       "      <td>Alabama</td>\n",
       "      <td>31</td>\n",
       "      <td>2/17/2019</td>\n",
       "      <td>3</td>\n",
       "      <td>married</td>\n",
       "      <td>40423</td>\n",
       "    </tr>\n",
       "    <tr>\n",
       "      <th>3</th>\n",
       "      <td>2254736</td>\n",
       "      <td>1</td>\n",
       "      <td>4</td>\n",
       "      <td>4</td>\n",
       "      <td>7</td>\n",
       "      <td>29.0</td>\n",
       "      <td>196</td>\n",
       "      <td>1</td>\n",
       "      <td>1</td>\n",
       "      <td>Soda</td>\n",
       "      <td>...</td>\n",
       "      <td>Low spender</td>\n",
       "      <td>20.5</td>\n",
       "      <td>Non-frequent customer</td>\n",
       "      <td>Female</td>\n",
       "      <td>Alabama</td>\n",
       "      <td>31</td>\n",
       "      <td>2/17/2019</td>\n",
       "      <td>3</td>\n",
       "      <td>married</td>\n",
       "      <td>40423</td>\n",
       "    </tr>\n",
       "    <tr>\n",
       "      <th>4</th>\n",
       "      <td>431534</td>\n",
       "      <td>1</td>\n",
       "      <td>5</td>\n",
       "      <td>4</td>\n",
       "      <td>15</td>\n",
       "      <td>28.0</td>\n",
       "      <td>196</td>\n",
       "      <td>1</td>\n",
       "      <td>1</td>\n",
       "      <td>Soda</td>\n",
       "      <td>...</td>\n",
       "      <td>Low spender</td>\n",
       "      <td>20.5</td>\n",
       "      <td>Non-frequent customer</td>\n",
       "      <td>Female</td>\n",
       "      <td>Alabama</td>\n",
       "      <td>31</td>\n",
       "      <td>2/17/2019</td>\n",
       "      <td>3</td>\n",
       "      <td>married</td>\n",
       "      <td>40423</td>\n",
       "    </tr>\n",
       "  </tbody>\n",
       "</table>\n",
       "<p>5 rows × 31 columns</p>\n",
       "</div>"
      ],
      "text/plain": [
       "   order_id user_id  order_number  orders_day_of_week  order_hour_of_day  \\\n",
       "0   2539329       1             1                   2                  8   \n",
       "1   2398795       1             2                   3                  7   \n",
       "2    473747       1             3                   3                 12   \n",
       "3   2254736       1             4                   4                  7   \n",
       "4    431534       1             5                   4                 15   \n",
       "\n",
       "   days_since_prior_order  product_id  add_to_cart_order  reordered  \\\n",
       "0                     NaN         196                  1          0   \n",
       "1                    15.0         196                  1          1   \n",
       "2                    21.0         196                  1          1   \n",
       "3                    29.0         196                  1          1   \n",
       "4                    28.0         196                  1          1   \n",
       "\n",
       "  product_name  ...  spending_flag  median_prior_orders  \\\n",
       "0         Soda  ...    Low spender                 20.5   \n",
       "1         Soda  ...    Low spender                 20.5   \n",
       "2         Soda  ...    Low spender                 20.5   \n",
       "3         Soda  ...    Low spender                 20.5   \n",
       "4         Soda  ...    Low spender                 20.5   \n",
       "\n",
       "    order_frequency_flag  gender    state age date_joined dependants_number  \\\n",
       "0  Non-frequent customer  Female  Alabama  31   2/17/2019                 3   \n",
       "1  Non-frequent customer  Female  Alabama  31   2/17/2019                 3   \n",
       "2  Non-frequent customer  Female  Alabama  31   2/17/2019                 3   \n",
       "3  Non-frequent customer  Female  Alabama  31   2/17/2019                 3   \n",
       "4  Non-frequent customer  Female  Alabama  31   2/17/2019                 3   \n",
       "\n",
       "   family_status income  \n",
       "0        married  40423  \n",
       "1        married  40423  \n",
       "2        married  40423  \n",
       "3        married  40423  \n",
       "4        married  40423  \n",
       "\n",
       "[5 rows x 31 columns]"
      ]
     },
     "execution_count": 4,
     "metadata": {},
     "output_type": "execute_result"
    }
   ],
   "source": [
    "df_project_all.head()"
   ]
  },
  {
   "cell_type": "code",
   "execution_count": 5,
   "id": "6bdf60a6",
   "metadata": {},
   "outputs": [
    {
     "name": "stdout",
     "output_type": "stream",
     "text": [
      "<class 'pandas.core.frame.DataFrame'>\n",
      "Int64Index: 32404859 entries, 0 to 32404858\n",
      "Data columns (total 31 columns):\n",
      " #   Column                  Dtype   \n",
      "---  ------                  -----   \n",
      " 0   order_id                int64   \n",
      " 1   user_id                 object  \n",
      " 2   order_number            int64   \n",
      " 3   orders_day_of_week      int64   \n",
      " 4   order_hour_of_day       int64   \n",
      " 5   days_since_prior_order  float64 \n",
      " 6   product_id              int64   \n",
      " 7   add_to_cart_order       int64   \n",
      " 8   reordered               int64   \n",
      " 9   product_name            object  \n",
      " 10  aisle_id                int64   \n",
      " 11  department_id           int64   \n",
      " 12  prices                  float64 \n",
      " 13  _merge                  category\n",
      " 14  price_range_loc         object  \n",
      " 15  busiest_day             object  \n",
      " 16  busiest_days            object  \n",
      " 17  busiest_period_of_day   object  \n",
      " 18  max_order               int64   \n",
      " 19  loyalty_flag            object  \n",
      " 20  average_price           float64 \n",
      " 21  spending_flag           object  \n",
      " 22  median_prior_orders     float64 \n",
      " 23  order_frequency_flag    object  \n",
      " 24  gender                  object  \n",
      " 25  state                   object  \n",
      " 26  age                     int64   \n",
      " 27  date_joined             object  \n",
      " 28  dependants_number       int64   \n",
      " 29  family_status           object  \n",
      " 30  income                  int64   \n",
      "dtypes: category(1), float64(4), int64(13), object(13)\n",
      "memory usage: 7.5+ GB\n"
     ]
    }
   ],
   "source": [
    "df_project_all.info()"
   ]
  },
  {
   "cell_type": "markdown",
   "id": "b31ad043",
   "metadata": {},
   "source": [
    "### 5. Customer Profiling"
   ]
  },
  {
   "cell_type": "markdown",
   "id": "03ef9d91",
   "metadata": {},
   "source": [
    "### 5.1 Customer Profiling: Age"
   ]
  },
  {
   "cell_type": "code",
   "execution_count": 6,
   "id": "51f20eba",
   "metadata": {},
   "outputs": [
    {
     "data": {
      "text/plain": [
       "count    3.240486e+07\n",
       "mean     4.946527e+01\n",
       "std      1.848558e+01\n",
       "min      1.800000e+01\n",
       "25%      3.300000e+01\n",
       "50%      4.900000e+01\n",
       "75%      6.500000e+01\n",
       "max      8.100000e+01\n",
       "Name: age, dtype: float64"
      ]
     },
     "execution_count": 6,
     "metadata": {},
     "output_type": "execute_result"
    }
   ],
   "source": [
    "df_project_all['age'].describe()"
   ]
  },
  {
   "cell_type": "code",
   "execution_count": 7,
   "id": "2aad1d5f",
   "metadata": {},
   "outputs": [],
   "source": [
    "# Create new a variable (age_group) and assign age to age_group variable using for loop\n",
    "\n",
    "age_group = []\n",
    "\n",
    "for value in df_project_all['age']:\n",
    "    if value < 30:\n",
    "        age_group.append('Less than 30 years')\n",
    "    elif value >= 30 and value < 40:\n",
    "        age_group.append('30-39 years')\n",
    "    elif value >= 40 and value < 50:\n",
    "        age_group.append('40-49 years')\n",
    "    elif value >=50 and value < 60:\n",
    "        age_group.append('50-59')\n",
    "    elif value >= 60 and value < 70:\n",
    "        age_group.append('60-69 years')\n",
    "    else:\n",
    "        age_group.append('70+ years')"
   ]
  },
  {
   "cell_type": "code",
   "execution_count": 8,
   "id": "20656035",
   "metadata": {},
   "outputs": [],
   "source": [
    "# Insert age_group as column in df_project_all\n",
    "\n",
    "df_project_all['age_group'] = age_group"
   ]
  },
  {
   "cell_type": "code",
   "execution_count": 9,
   "id": "4583b263",
   "metadata": {},
   "outputs": [
    {
     "data": {
      "text/plain": [
       "Less than 30 years    6090441\n",
       "70+ years             6079991\n",
       "40-49 years           5109237\n",
       "30-39 years           5073751\n",
       "50-59                 5064175\n",
       "60-69 years           4987264\n",
       "Name: age_group, dtype: int64"
      ]
     },
     "execution_count": 9,
     "metadata": {},
     "output_type": "execute_result"
    }
   ],
   "source": [
    "df_project_all['age_group'].value_counts(dropna = False)"
   ]
  },
  {
   "cell_type": "code",
   "execution_count": 10,
   "id": "28e23818",
   "metadata": {},
   "outputs": [
    {
     "data": {
      "text/plain": [
       "Text(0.5, 1.0, 'Age Group')"
      ]
     },
     "execution_count": 10,
     "metadata": {},
     "output_type": "execute_result"
    },
    {
     "data": {
      "image/png": "[encoded data removed]",
      "text/plain": [
       "<Figure size 640x480 with 1 Axes>"
      ]
     },
     "metadata": {},
     "output_type": "display_data"
    }
   ],
   "source": [
    "bar_age_profile = df_project_all['age_group'].value_counts().plot.bar()\n",
    "plt.title('Age Group')"
   ]
  },
  {
   "cell_type": "code",
   "execution_count": 11,
   "id": "dc40e9b7",
   "metadata": {},
   "outputs": [
    {
     "data": {
      "text/plain": [
       "Text(0.5, 1.0, 'Age Group')"
      ]
     },
     "execution_count": 11,
     "metadata": {},
     "output_type": "execute_result"
    },
    {
     "data": {
      "image/png": "[encoded data removed]",
      "text/plain": [
       "<Figure size 640x480 with 1 Axes>"
      ]
     },
     "metadata": {},
     "output_type": "display_data"
    }
   ],
   "source": [
    "bar_age_profile2 = df_project_all['age_group'].value_counts().sort_values().plot.barh(color = sns.color_palette('Blues', 6))\n",
    "plt.title('Age Group', fontweight = 'bold')"
   ]
  },
  {
   "cell_type": "markdown",
   "id": "b3bcbe7f",
   "metadata": {},
   "source": [
    "#### Observation: The majority of the customers come from the age group below 30 years and over 70 years"
   ]
  },
  {
   "cell_type": "code",
   "execution_count": 12,
   "id": "1bc6f31e",
   "metadata": {},
   "outputs": [
    {
     "data": {
      "text/html": [
       "<div>\n",
       "<style scoped>\n",
       "    .dataframe tbody tr th:only-of-type {\n",
       "        vertical-align: middle;\n",
       "    }\n",
       "\n",
       "    .dataframe tbody tr th {\n",
       "        vertical-align: top;\n",
       "    }\n",
       "\n",
       "    .dataframe thead tr th {\n",
       "        text-align: left;\n",
       "    }\n",
       "\n",
       "    .dataframe thead tr:last-of-type th {\n",
       "        text-align: right;\n",
       "    }\n",
       "</style>\n",
       "<table border=\"1\" class=\"dataframe\">\n",
       "  <thead>\n",
       "    <tr>\n",
       "      <th></th>\n",
       "      <th colspan=\"4\" halign=\"left\">prices</th>\n",
       "    </tr>\n",
       "    <tr>\n",
       "      <th></th>\n",
       "      <th>mean</th>\n",
       "      <th>max</th>\n",
       "      <th>min</th>\n",
       "      <th>sum</th>\n",
       "    </tr>\n",
       "    <tr>\n",
       "      <th>age_group</th>\n",
       "      <th></th>\n",
       "      <th></th>\n",
       "      <th></th>\n",
       "      <th></th>\n",
       "    </tr>\n",
       "  </thead>\n",
       "  <tbody>\n",
       "    <tr>\n",
       "      <th>30-39 years</th>\n",
       "      <td>7.788828</td>\n",
       "      <td>25.0</td>\n",
       "      <td>1.0</td>\n",
       "      <td>3.951857e+07</td>\n",
       "    </tr>\n",
       "    <tr>\n",
       "      <th>40-49 years</th>\n",
       "      <td>7.799132</td>\n",
       "      <td>25.0</td>\n",
       "      <td>1.0</td>\n",
       "      <td>3.984761e+07</td>\n",
       "    </tr>\n",
       "    <tr>\n",
       "      <th>50-59</th>\n",
       "      <td>7.784795</td>\n",
       "      <td>25.0</td>\n",
       "      <td>1.0</td>\n",
       "      <td>3.942357e+07</td>\n",
       "    </tr>\n",
       "    <tr>\n",
       "      <th>60-69 years</th>\n",
       "      <td>7.799306</td>\n",
       "      <td>25.0</td>\n",
       "      <td>1.0</td>\n",
       "      <td>3.889720e+07</td>\n",
       "    </tr>\n",
       "    <tr>\n",
       "      <th>70+ years</th>\n",
       "      <td>7.791973</td>\n",
       "      <td>25.0</td>\n",
       "      <td>1.0</td>\n",
       "      <td>4.737512e+07</td>\n",
       "    </tr>\n",
       "    <tr>\n",
       "      <th>Less than 30 years</th>\n",
       "      <td>7.783186</td>\n",
       "      <td>25.0</td>\n",
       "      <td>1.0</td>\n",
       "      <td>4.740304e+07</td>\n",
       "    </tr>\n",
       "  </tbody>\n",
       "</table>\n",
       "</div>"
      ],
      "text/plain": [
       "                      prices                         \n",
       "                        mean   max  min           sum\n",
       "age_group                                            \n",
       "30-39 years         7.788828  25.0  1.0  3.951857e+07\n",
       "40-49 years         7.799132  25.0  1.0  3.984761e+07\n",
       "50-59               7.784795  25.0  1.0  3.942357e+07\n",
       "60-69 years         7.799306  25.0  1.0  3.889720e+07\n",
       "70+ years           7.791973  25.0  1.0  4.737512e+07\n",
       "Less than 30 years  7.783186  25.0  1.0  4.740304e+07"
      ]
     },
     "execution_count": 12,
     "metadata": {},
     "output_type": "execute_result"
    }
   ],
   "source": [
    "df_project_all.groupby('age_group').agg({'prices' : ['mean', 'max', 'min', 'sum']})"
   ]
  },
  {
   "cell_type": "markdown",
   "id": "ec309194",
   "metadata": {},
   "source": [
    "#### Observation: I don't see a big difference in \"average\" price across groups, but from the \"sum\" I can see that customers under 30 and over 70 years have contributed the highest revenue since they are also the majority of customers that Instacart has based on the bar chart above"
   ]
  },
  {
   "cell_type": "code",
   "execution_count": 13,
   "id": "b096cec9",
   "metadata": {},
   "outputs": [
    {
     "data": {
      "text/html": [
       "<div>\n",
       "<style scoped>\n",
       "    .dataframe tbody tr th:only-of-type {\n",
       "        vertical-align: middle;\n",
       "    }\n",
       "\n",
       "    .dataframe tbody tr th {\n",
       "        vertical-align: top;\n",
       "    }\n",
       "\n",
       "    .dataframe thead th {\n",
       "        text-align: right;\n",
       "    }\n",
       "</style>\n",
       "<table border=\"1\" class=\"dataframe\">\n",
       "  <thead>\n",
       "    <tr style=\"text-align: right;\">\n",
       "      <th>loyalty_flag</th>\n",
       "      <th>Loyal customer</th>\n",
       "      <th>New customer</th>\n",
       "      <th>Regular customer</th>\n",
       "    </tr>\n",
       "    <tr>\n",
       "      <th>age_group</th>\n",
       "      <th></th>\n",
       "      <th></th>\n",
       "      <th></th>\n",
       "    </tr>\n",
       "  </thead>\n",
       "  <tbody>\n",
       "    <tr>\n",
       "      <th>30-39 years</th>\n",
       "      <td>1606129</td>\n",
       "      <td>965545</td>\n",
       "      <td>2502077</td>\n",
       "    </tr>\n",
       "    <tr>\n",
       "      <th>40-49 years</th>\n",
       "      <td>1632365</td>\n",
       "      <td>978759</td>\n",
       "      <td>2498113</td>\n",
       "    </tr>\n",
       "    <tr>\n",
       "      <th>50-59</th>\n",
       "      <td>1617569</td>\n",
       "      <td>983689</td>\n",
       "      <td>2462917</td>\n",
       "    </tr>\n",
       "    <tr>\n",
       "      <th>60-69 years</th>\n",
       "      <td>1586126</td>\n",
       "      <td>973767</td>\n",
       "      <td>2427371</td>\n",
       "    </tr>\n",
       "    <tr>\n",
       "      <th>70+ years</th>\n",
       "      <td>1928647</td>\n",
       "      <td>1168959</td>\n",
       "      <td>2982385</td>\n",
       "    </tr>\n",
       "    <tr>\n",
       "      <th>Less than 30 years</th>\n",
       "      <td>1913257</td>\n",
       "      <td>1173271</td>\n",
       "      <td>3003913</td>\n",
       "    </tr>\n",
       "  </tbody>\n",
       "</table>\n",
       "</div>"
      ],
      "text/plain": [
       "loyalty_flag        Loyal customer  New customer  Regular customer\n",
       "age_group                                                         \n",
       "30-39 years                1606129        965545           2502077\n",
       "40-49 years                1632365        978759           2498113\n",
       "50-59                      1617569        983689           2462917\n",
       "60-69 years                1586126        973767           2427371\n",
       "70+ years                  1928647       1168959           2982385\n",
       "Less than 30 years         1913257       1173271           3003913"
      ]
     },
     "execution_count": 13,
     "metadata": {},
     "output_type": "execute_result"
    }
   ],
   "source": [
    "# Create a crosstab between the 'age_group' and 'loyalty_flag' column\n",
    "\n",
    "crosstab_age_loyalty = pd.crosstab(df_project_all['age_group'], df_project_all['loyalty_flag'], dropna = False)\n",
    "crosstab_age_loyalty "
   ]
  },
  {
   "cell_type": "markdown",
   "id": "ef600fdc",
   "metadata": {},
   "source": [
    "#### Observation: All categories from new customers to loyal customers are led by customers under 30 years and over 70 years"
   ]
  },
  {
   "cell_type": "code",
   "execution_count": 14,
   "id": "3ffc71ff",
   "metadata": {},
   "outputs": [
    {
     "data": {
      "text/plain": [
       "Pennsylvania            667082\n",
       "California              659783\n",
       "Rhode Island            656913\n",
       "Georgia                 656389\n",
       "New Mexico              654494\n",
       "Arizona                 653964\n",
       "North Carolina          651900\n",
       "Oklahoma                651739\n",
       "Alaska                  648495\n",
       "Minnesota               647825\n",
       "Massachusetts           646358\n",
       "Wyoming                 644255\n",
       "Virginia                641421\n",
       "Missouri                640732\n",
       "Texas                   640394\n",
       "Colorado                639280\n",
       "Maine                   638583\n",
       "North Dakota            638491\n",
       "Alabama                 638003\n",
       "Kansas                  637538\n",
       "Louisiana               637482\n",
       "Delaware                637024\n",
       "South Carolina          636754\n",
       "Oregon                  636425\n",
       "Arkansas                636144\n",
       "Nevada                  636139\n",
       "New York                635983\n",
       "Montana                 635265\n",
       "South Dakota            633772\n",
       "Illinois                633024\n",
       "Hawaii                  632901\n",
       "Washington              632852\n",
       "Mississippi             632675\n",
       "Kentucky                632490\n",
       "Michigan                630928\n",
       "Florida                 629027\n",
       "Ohio                    628319\n",
       "Wisconsin               628108\n",
       "New Jersey              627692\n",
       "Indiana                 627282\n",
       "Maryland                626579\n",
       "Nebraska                625813\n",
       "Iowa                    625493\n",
       "Connecticut             623022\n",
       "Tennessee               617873\n",
       "New Hampshire           615378\n",
       "District of Columbia    613695\n",
       "West Virginia           612296\n",
       "Utah                    611941\n",
       "Vermont                 611725\n",
       "Idaho                   607119\n",
       "Name: state, dtype: int64"
      ]
     },
     "execution_count": 14,
     "metadata": {},
     "output_type": "execute_result"
    }
   ],
   "source": [
    "# Reapply regional segmentation as it hasn't been saved\n",
    "\n",
    "# Check the \"state\" column\n",
    "df_project_all['state'].value_counts(dropna = False)"
   ]
  },
  {
   "cell_type": "code",
   "execution_count": 15,
   "id": "0a8db39b",
   "metadata": {},
   "outputs": [],
   "source": [
    "# Assign states to region variable using for loop\n",
    "\n",
    "region = []\n",
    "for value in df_project_all['state']:\n",
    "    if value in ['Maine', 'New Hampshire', 'Vermont', 'Massachusetts', 'Rhode Island', 'Connecticut', 'New York', 'Pennsylvania', 'New Jersey']:\n",
    "        region.append('Northeast')\n",
    "    elif value in ['Wisconsin', 'Michigan', 'Illinois', 'Indiana', 'Ohio', 'North Dakota', 'South Dakota', 'Nebraska', 'Kansas', 'Minnesota', 'Iowa', 'Missouri']:\n",
    "        region.append('Midwest')\n",
    "    elif value in ['Idaho', 'Montana', 'Wyoming', 'Nevada', 'Utah', 'Colorado', 'Arizona', 'New Mexico', 'Alaska', 'Washington', 'Oregon', 'California', 'Hawaii']:\n",
    "        region.append('West')\n",
    "    else:\n",
    "        region.append('South')"
   ]
  },
  {
   "cell_type": "code",
   "execution_count": 16,
   "id": "da5182be",
   "metadata": {},
   "outputs": [],
   "source": [
    "# Insert region as column in df_project_all\n",
    "\n",
    "df_project_all['region'] = region"
   ]
  },
  {
   "cell_type": "code",
   "execution_count": 17,
   "id": "670b7eb2",
   "metadata": {},
   "outputs": [
    {
     "data": {
      "text/plain": [
       "South        10791885\n",
       "West          8292913\n",
       "Midwest       7597325\n",
       "Northeast     5722736\n",
       "Name: region, dtype: int64"
      ]
     },
     "execution_count": 17,
     "metadata": {},
     "output_type": "execute_result"
    }
   ],
   "source": [
    "df_project_all['region'].value_counts(dropna = False)"
   ]
  },
  {
   "cell_type": "code",
   "execution_count": 18,
   "id": "08ed9afc",
   "metadata": {},
   "outputs": [
    {
     "name": "stdout",
     "output_type": "stream",
     "text": [
      "<class 'pandas.core.frame.DataFrame'>\n",
      "Int64Index: 32404859 entries, 0 to 32404858\n",
      "Data columns (total 33 columns):\n",
      " #   Column                  Dtype   \n",
      "---  ------                  -----   \n",
      " 0   order_id                int64   \n",
      " 1   user_id                 object  \n",
      " 2   order_number            int64   \n",
      " 3   orders_day_of_week      int64   \n",
      " 4   order_hour_of_day       int64   \n",
      " 5   days_since_prior_order  float64 \n",
      " 6   product_id              int64   \n",
      " 7   add_to_cart_order       int64   \n",
      " 8   reordered               int64   \n",
      " 9   product_name            object  \n",
      " 10  aisle_id                int64   \n",
      " 11  department_id           int64   \n",
      " 12  prices                  float64 \n",
      " 13  _merge                  category\n",
      " 14  price_range_loc         object  \n",
      " 15  busiest_day             object  \n",
      " 16  busiest_days            object  \n",
      " 17  busiest_period_of_day   object  \n",
      " 18  max_order               int64   \n",
      " 19  loyalty_flag            object  \n",
      " 20  average_price           float64 \n",
      " 21  spending_flag           object  \n",
      " 22  median_prior_orders     float64 \n",
      " 23  order_frequency_flag    object  \n",
      " 24  gender                  object  \n",
      " 25  state                   object  \n",
      " 26  age                     int64   \n",
      " 27  date_joined             object  \n",
      " 28  dependants_number       int64   \n",
      " 29  family_status           object  \n",
      " 30  income                  int64   \n",
      " 31  age_group               object  \n",
      " 32  region                  object  \n",
      "dtypes: category(1), float64(4), int64(13), object(15)\n",
      "memory usage: 8.0+ GB\n"
     ]
    }
   ],
   "source": [
    "df_project_all.info()"
   ]
  },
  {
   "cell_type": "code",
   "execution_count": 19,
   "id": "c1e9469e",
   "metadata": {},
   "outputs": [
    {
     "data": {
      "text/html": [
       "<div>\n",
       "<style scoped>\n",
       "    .dataframe tbody tr th:only-of-type {\n",
       "        vertical-align: middle;\n",
       "    }\n",
       "\n",
       "    .dataframe tbody tr th {\n",
       "        vertical-align: top;\n",
       "    }\n",
       "\n",
       "    .dataframe thead th {\n",
       "        text-align: right;\n",
       "    }\n",
       "</style>\n",
       "<table border=\"1\" class=\"dataframe\">\n",
       "  <thead>\n",
       "    <tr style=\"text-align: right;\">\n",
       "      <th>age_group</th>\n",
       "      <th>30-39 years</th>\n",
       "      <th>40-49 years</th>\n",
       "      <th>50-59</th>\n",
       "      <th>60-69 years</th>\n",
       "      <th>70+ years</th>\n",
       "      <th>Less than 30 years</th>\n",
       "    </tr>\n",
       "    <tr>\n",
       "      <th>region</th>\n",
       "      <th></th>\n",
       "      <th></th>\n",
       "      <th></th>\n",
       "      <th></th>\n",
       "      <th></th>\n",
       "      <th></th>\n",
       "    </tr>\n",
       "  </thead>\n",
       "  <tbody>\n",
       "    <tr>\n",
       "      <th>Midwest</th>\n",
       "      <td>1180424</td>\n",
       "      <td>1227062</td>\n",
       "      <td>1199596</td>\n",
       "      <td>1161370</td>\n",
       "      <td>1408168</td>\n",
       "      <td>1420705</td>\n",
       "    </tr>\n",
       "    <tr>\n",
       "      <th>Northeast</th>\n",
       "      <td>888917</td>\n",
       "      <td>900208</td>\n",
       "      <td>890071</td>\n",
       "      <td>884533</td>\n",
       "      <td>1088570</td>\n",
       "      <td>1070437</td>\n",
       "    </tr>\n",
       "    <tr>\n",
       "      <th>South</th>\n",
       "      <td>1723110</td>\n",
       "      <td>1677004</td>\n",
       "      <td>1653555</td>\n",
       "      <td>1664412</td>\n",
       "      <td>2021171</td>\n",
       "      <td>2052633</td>\n",
       "    </tr>\n",
       "    <tr>\n",
       "      <th>West</th>\n",
       "      <td>1281300</td>\n",
       "      <td>1304963</td>\n",
       "      <td>1320953</td>\n",
       "      <td>1276949</td>\n",
       "      <td>1562082</td>\n",
       "      <td>1546666</td>\n",
       "    </tr>\n",
       "  </tbody>\n",
       "</table>\n",
       "</div>"
      ],
      "text/plain": [
       "age_group  30-39 years  40-49 years    50-59  60-69 years  70+ years  \\\n",
       "region                                                                 \n",
       "Midwest        1180424      1227062  1199596      1161370    1408168   \n",
       "Northeast       888917       900208   890071       884533    1088570   \n",
       "South          1723110      1677004  1653555      1664412    2021171   \n",
       "West           1281300      1304963  1320953      1276949    1562082   \n",
       "\n",
       "age_group  Less than 30 years  \n",
       "region                         \n",
       "Midwest               1420705  \n",
       "Northeast             1070437  \n",
       "South                 2052633  \n",
       "West                  1546666  "
      ]
     },
     "execution_count": 19,
     "metadata": {},
     "output_type": "execute_result"
    }
   ],
   "source": [
    "# Create a crosstab between the 'region' and 'age_group' column\n",
    "\n",
    "crosstab_age_region = pd.crosstab(df_project_all['region'], df_project_all['age_group'], dropna = False)\n",
    "crosstab_age_region"
   ]
  },
  {
   "cell_type": "code",
   "execution_count": 20,
   "id": "4a501d33",
   "metadata": {},
   "outputs": [
    {
     "data": {
      "image/png": "[encoded data removed]",
      "text/plain": [
       "<Figure size 640x480 with 1 Axes>"
      ]
     },
     "metadata": {},
     "output_type": "display_data"
    }
   ],
   "source": [
    "bar_age_region = crosstab_age_region.plot.barh(color = sns.color_palette('Blues', 6))\n",
    "plt.ylabel('Region')\n",
    "plt.legend()\n",
    "plt.title('Age Group by Region', fontweight = 'bold')\n",
    "plt.show()"
   ]
  },
  {
   "cell_type": "markdown",
   "id": "1a33a563",
   "metadata": {},
   "source": [
    "#### Observation: All regions are also led by customers under 30 and over 70 years with the majority living in the Southern US region"
   ]
  },
  {
   "cell_type": "markdown",
   "id": "1ce0e8ce",
   "metadata": {},
   "source": [
    "### 5.2 Customer Profiling: Income"
   ]
  },
  {
   "cell_type": "code",
   "execution_count": 21,
   "id": "f534a68b",
   "metadata": {},
   "outputs": [
    {
     "data": {
      "text/plain": [
       "count    3.240486e+07\n",
       "mean     9.943773e+04\n",
       "std      4.305727e+04\n",
       "min      2.590300e+04\n",
       "25%      6.700400e+04\n",
       "50%      9.661800e+04\n",
       "75%      1.279120e+05\n",
       "max      5.939010e+05\n",
       "Name: income, dtype: float64"
      ]
     },
     "execution_count": 21,
     "metadata": {},
     "output_type": "execute_result"
    }
   ],
   "source": [
    "df_project_all['income'].describe()"
   ]
  },
  {
   "cell_type": "code",
   "execution_count": 22,
   "id": "457b8770",
   "metadata": {},
   "outputs": [],
   "source": [
    "# Create a new variable (income_group) and assign income to income_group variable using for loop (separated by quartiles)\n",
    "\n",
    "income_group = []\n",
    "\n",
    "for value in df_project_all['income']:\n",
    "    if value < 6.700400e+04:\n",
    "        income_group.append('Low-income')\n",
    "    elif value >= 6.700400e+04 and value < 9.661800e+04:\n",
    "        income_group.append('Moderate-income')\n",
    "    elif value >= 9.661800e+04 and value < 1.279120e+05:\n",
    "        income_group.append('High-income')\n",
    "    else:\n",
    "        income_group.append('Wealthy')"
   ]
  },
  {
   "cell_type": "code",
   "execution_count": 23,
   "id": "9b679712",
   "metadata": {},
   "outputs": [],
   "source": [
    "# Insert income_group as column in df_project_all\n",
    "\n",
    "df_project_all['income_group'] = income_group"
   ]
  },
  {
   "cell_type": "code",
   "execution_count": 24,
   "id": "de38364d",
   "metadata": {},
   "outputs": [
    {
     "name": "stdout",
     "output_type": "stream",
     "text": [
      "<class 'pandas.core.frame.DataFrame'>\n",
      "Int64Index: 32404859 entries, 0 to 32404858\n",
      "Data columns (total 34 columns):\n",
      " #   Column                  Dtype   \n",
      "---  ------                  -----   \n",
      " 0   order_id                int64   \n",
      " 1   user_id                 object  \n",
      " 2   order_number            int64   \n",
      " 3   orders_day_of_week      int64   \n",
      " 4   order_hour_of_day       int64   \n",
      " 5   days_since_prior_order  float64 \n",
      " 6   product_id              int64   \n",
      " 7   add_to_cart_order       int64   \n",
      " 8   reordered               int64   \n",
      " 9   product_name            object  \n",
      " 10  aisle_id                int64   \n",
      " 11  department_id           int64   \n",
      " 12  prices                  float64 \n",
      " 13  _merge                  category\n",
      " 14  price_range_loc         object  \n",
      " 15  busiest_day             object  \n",
      " 16  busiest_days            object  \n",
      " 17  busiest_period_of_day   object  \n",
      " 18  max_order               int64   \n",
      " 19  loyalty_flag            object  \n",
      " 20  average_price           float64 \n",
      " 21  spending_flag           object  \n",
      " 22  median_prior_orders     float64 \n",
      " 23  order_frequency_flag    object  \n",
      " 24  gender                  object  \n",
      " 25  state                   object  \n",
      " 26  age                     int64   \n",
      " 27  date_joined             object  \n",
      " 28  dependants_number       int64   \n",
      " 29  family_status           object  \n",
      " 30  income                  int64   \n",
      " 31  age_group               object  \n",
      " 32  region                  object  \n",
      " 33  income_group            object  \n",
      "dtypes: category(1), float64(4), int64(13), object(16)\n",
      "memory usage: 8.2+ GB\n"
     ]
    }
   ],
   "source": [
    "df_project_all.info()"
   ]
  },
  {
   "cell_type": "code",
   "execution_count": 25,
   "id": "161ad072",
   "metadata": {},
   "outputs": [
    {
     "data": {
      "text/plain": [
       "Wealthy            8101288\n",
       "Low-income         8101214\n",
       "Moderate-income    8101207\n",
       "High-income        8101150\n",
       "Name: income_group, dtype: int64"
      ]
     },
     "execution_count": 25,
     "metadata": {},
     "output_type": "execute_result"
    }
   ],
   "source": [
    "df_project_all['income_group'].value_counts(dropna = False)"
   ]
  },
  {
   "cell_type": "markdown",
   "id": "d378783d",
   "metadata": {},
   "source": [
    "#### Observation: Looks like the income groups are evenly spread."
   ]
  },
  {
   "cell_type": "code",
   "execution_count": 26,
   "id": "0ecb6470",
   "metadata": {},
   "outputs": [
    {
     "data": {
      "text/html": [
       "<div>\n",
       "<style scoped>\n",
       "    .dataframe tbody tr th:only-of-type {\n",
       "        vertical-align: middle;\n",
       "    }\n",
       "\n",
       "    .dataframe tbody tr th {\n",
       "        vertical-align: top;\n",
       "    }\n",
       "\n",
       "    .dataframe thead tr th {\n",
       "        text-align: left;\n",
       "    }\n",
       "\n",
       "    .dataframe thead tr:last-of-type th {\n",
       "        text-align: right;\n",
       "    }\n",
       "</style>\n",
       "<table border=\"1\" class=\"dataframe\">\n",
       "  <thead>\n",
       "    <tr>\n",
       "      <th></th>\n",
       "      <th colspan=\"4\" halign=\"left\">prices</th>\n",
       "    </tr>\n",
       "    <tr>\n",
       "      <th></th>\n",
       "      <th>mean</th>\n",
       "      <th>max</th>\n",
       "      <th>min</th>\n",
       "      <th>sum</th>\n",
       "    </tr>\n",
       "    <tr>\n",
       "      <th>income_group</th>\n",
       "      <th></th>\n",
       "      <th></th>\n",
       "      <th></th>\n",
       "      <th></th>\n",
       "    </tr>\n",
       "  </thead>\n",
       "  <tbody>\n",
       "    <tr>\n",
       "      <th>High-income</th>\n",
       "      <td>7.965269</td>\n",
       "      <td>25.0</td>\n",
       "      <td>1.0</td>\n",
       "      <td>6.452784e+07</td>\n",
       "    </tr>\n",
       "    <tr>\n",
       "      <th>Low-income</th>\n",
       "      <td>7.284196</td>\n",
       "      <td>25.0</td>\n",
       "      <td>1.0</td>\n",
       "      <td>5.901083e+07</td>\n",
       "    </tr>\n",
       "    <tr>\n",
       "      <th>Moderate-income</th>\n",
       "      <td>7.957462</td>\n",
       "      <td>25.0</td>\n",
       "      <td>1.0</td>\n",
       "      <td>6.446505e+07</td>\n",
       "    </tr>\n",
       "    <tr>\n",
       "      <th>Wealthy</th>\n",
       "      <td>7.956931</td>\n",
       "      <td>25.0</td>\n",
       "      <td>1.0</td>\n",
       "      <td>6.446139e+07</td>\n",
       "    </tr>\n",
       "  </tbody>\n",
       "</table>\n",
       "</div>"
      ],
      "text/plain": [
       "                   prices                         \n",
       "                     mean   max  min           sum\n",
       "income_group                                      \n",
       "High-income      7.965269  25.0  1.0  6.452784e+07\n",
       "Low-income       7.284196  25.0  1.0  5.901083e+07\n",
       "Moderate-income  7.957462  25.0  1.0  6.446505e+07\n",
       "Wealthy          7.956931  25.0  1.0  6.446139e+07"
      ]
     },
     "execution_count": 26,
     "metadata": {},
     "output_type": "execute_result"
    }
   ],
   "source": [
    "df_project_all.groupby('income_group').agg({'prices' : ['mean', 'max', 'min', 'sum']})"
   ]
  },
  {
   "cell_type": "markdown",
   "id": "b803e0a9",
   "metadata": {},
   "source": [
    "#### Observation: There is no significant difference in income groups: moderate, high, and wealthy in terms of income contribution made to Instacart"
   ]
  },
  {
   "cell_type": "code",
   "execution_count": 27,
   "id": "7194eb70",
   "metadata": {},
   "outputs": [
    {
     "data": {
      "text/html": [
       "<div>\n",
       "<style scoped>\n",
       "    .dataframe tbody tr th:only-of-type {\n",
       "        vertical-align: middle;\n",
       "    }\n",
       "\n",
       "    .dataframe tbody tr th {\n",
       "        vertical-align: top;\n",
       "    }\n",
       "\n",
       "    .dataframe thead th {\n",
       "        text-align: right;\n",
       "    }\n",
       "</style>\n",
       "<table border=\"1\" class=\"dataframe\">\n",
       "  <thead>\n",
       "    <tr style=\"text-align: right;\">\n",
       "      <th>age_group</th>\n",
       "      <th>30-39 years</th>\n",
       "      <th>40-49 years</th>\n",
       "      <th>50-59</th>\n",
       "      <th>60-69 years</th>\n",
       "      <th>70+ years</th>\n",
       "      <th>Less than 30 years</th>\n",
       "    </tr>\n",
       "    <tr>\n",
       "      <th>income_group</th>\n",
       "      <th></th>\n",
       "      <th></th>\n",
       "      <th></th>\n",
       "      <th></th>\n",
       "      <th></th>\n",
       "      <th></th>\n",
       "    </tr>\n",
       "  </thead>\n",
       "  <tbody>\n",
       "    <tr>\n",
       "      <th>High-income</th>\n",
       "      <td>346749</td>\n",
       "      <td>1673885</td>\n",
       "      <td>1786167</td>\n",
       "      <td>1727402</td>\n",
       "      <td>2159887</td>\n",
       "      <td>407060</td>\n",
       "    </tr>\n",
       "    <tr>\n",
       "      <th>Low-income</th>\n",
       "      <td>2347945</td>\n",
       "      <td>824157</td>\n",
       "      <td>691507</td>\n",
       "      <td>654404</td>\n",
       "      <td>791375</td>\n",
       "      <td>2791826</td>\n",
       "    </tr>\n",
       "    <tr>\n",
       "      <th>Moderate-income</th>\n",
       "      <td>2321798</td>\n",
       "      <td>826032</td>\n",
       "      <td>650851</td>\n",
       "      <td>664150</td>\n",
       "      <td>815754</td>\n",
       "      <td>2822622</td>\n",
       "    </tr>\n",
       "    <tr>\n",
       "      <th>Wealthy</th>\n",
       "      <td>57259</td>\n",
       "      <td>1785163</td>\n",
       "      <td>1935650</td>\n",
       "      <td>1941308</td>\n",
       "      <td>2312975</td>\n",
       "      <td>68933</td>\n",
       "    </tr>\n",
       "  </tbody>\n",
       "</table>\n",
       "</div>"
      ],
      "text/plain": [
       "age_group        30-39 years  40-49 years    50-59  60-69 years  70+ years  \\\n",
       "income_group                                                                 \n",
       "High-income           346749      1673885  1786167      1727402    2159887   \n",
       "Low-income           2347945       824157   691507       654404     791375   \n",
       "Moderate-income      2321798       826032   650851       664150     815754   \n",
       "Wealthy                57259      1785163  1935650      1941308    2312975   \n",
       "\n",
       "age_group        Less than 30 years  \n",
       "income_group                         \n",
       "High-income                  407060  \n",
       "Low-income                  2791826  \n",
       "Moderate-income             2822622  \n",
       "Wealthy                       68933  "
      ]
     },
     "execution_count": 27,
     "metadata": {},
     "output_type": "execute_result"
    }
   ],
   "source": [
    "# Create a crosstab between the 'income_group' and 'age_group' column\n",
    "\n",
    "crosstab_income_age = pd.crosstab(df_project_all['income_group'], df_project_all['age_group'], dropna = False)\n",
    "crosstab_income_age"
   ]
  },
  {
   "cell_type": "code",
   "execution_count": 28,
   "id": "3739332a",
   "metadata": {},
   "outputs": [
    {
     "data": {
      "image/png": "[encoded data removed]",
      "text/plain": [
       "<Figure size 640x480 with 1 Axes>"
      ]
     },
     "metadata": {},
     "output_type": "display_data"
    }
   ],
   "source": [
    "# Creating a bar chart of income group divided by age group\n",
    "\n",
    "bar_age_income = crosstab_income_age.plot.barh(color = sns.color_palette('Blues', 6))\n",
    "plt.ylabel('Income Group')\n",
    "plt.legend()\n",
    "plt.title('Income Group by Age Group', fontweight = 'bold')\n",
    "plt.show()"
   ]
  },
  {
   "cell_type": "markdown",
   "id": "c02e4001",
   "metadata": {},
   "source": [
    "#### Observation: The majority of low-moderate income group come from the age group < 30 years and 30 - 39 years (I can say they are still young to adulthood). In contrast, people in the high-to-wealthy bracket come from the age group 70+ year olds. This makes sense since older people may already have their own businesses, pensions, etc. which brought them to financial stability."
   ]
  },
  {
   "cell_type": "code",
   "execution_count": 33,
   "id": "8eacf3b9",
   "metadata": {},
   "outputs": [],
   "source": [
    "# Saving new dataframe to pickle\n",
    "\n",
    "df_project_all.to_pickle(os.path.join(path, '02 Data','Prepared Data', 'project_all.pkl'))"
   ]
  },
  {
   "cell_type": "code",
   "execution_count": 34,
   "id": "3891afb7",
   "metadata": {},
   "outputs": [],
   "source": [
    "# Exporting bar_age_profile2 \n",
    "\n",
    "bar_age_profile2.figure.savefig(os.path.join(path, '04 Analysis','Visualizations', 'bar_age_profile.png'))"
   ]
  },
  {
   "cell_type": "code",
   "execution_count": 35,
   "id": "ade10cf2",
   "metadata": {},
   "outputs": [],
   "source": [
    "# Exporting bar_age_region \n",
    "\n",
    "bar_age_region.figure.savefig(os.path.join(path, '04 Analysis','Visualizations', 'bar_age_region.png'))"
   ]
  },
  {
   "cell_type": "code",
   "execution_count": 36,
   "id": "12900ed5",
   "metadata": {},
   "outputs": [],
   "source": [
    "# Exporting bar_age_income\n",
    "\n",
    "bar_age_income.figure.savefig(os.path.join(path, '04 Analysis','Visualizations', 'bar_age_income.png'))"
   ]
  },
  {
   "cell_type": "code",
   "execution_count": null,
   "id": "a6350e50",
   "metadata": {},
   "outputs": [],
   "source": [
    " # 5.3 and 5.4 will be continued on the next notebook"
   ]
  },
  {
   "cell_type": "code",
   "execution_count": null,
   "id": "6e7a1db5",
   "metadata": {},
   "outputs": [],
   "source": []
  },
  {
   "cell_type": "code",
   "execution_count": null,
   "id": "bba0a4aa",
   "metadata": {},
   "outputs": [],
   "source": []
  },
  {
   "cell_type": "code",
   "execution_count": null,
   "id": "6a4a1512",
   "metadata": {},
   "outputs": [],
   "source": []
  },
  {
   "cell_type": "code",
   "execution_count": null,
   "id": "2ef1b5ff",
   "metadata": {},
   "outputs": [],
   "source": []
  },
  {
   "cell_type": "code",
   "execution_count": null,
   "id": "f9273565",
   "metadata": {},
   "outputs": [],
   "source": []
  },
  {
   "cell_type": "code",
   "execution_count": null,
   "id": "e89be0ad",
   "metadata": {},
   "outputs": [],
   "source": []
  }
 ],
 "metadata": {
  "kernelspec": {
   "display_name": "Python 3 (ipykernel)",
   "language": "python",
   "name": "python3"
  },
  "language_info": {
   "codemirror_mode": {
    "name": "ipython",
    "version": 3
   },
   "file_extension": ".py",
   "mimetype": "text/x-python",
   "name": "python",
   "nbconvert_exporter": "python",
   "pygments_lexer": "ipython3",
   "version": "3.10.9"
  }
 },
 "nbformat": 4,
 "nbformat_minor": 5
}
