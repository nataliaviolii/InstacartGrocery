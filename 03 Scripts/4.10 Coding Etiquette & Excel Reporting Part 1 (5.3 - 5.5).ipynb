{
 "cells": [
  {
   "cell_type": "markdown",
   "id": "decace1d",
   "metadata": {},
   "source": [
    "### Contents:\n",
    "5. Customer Profiling. Create a profiling variable based on:\n",
    "- 5.1 Customer Profiling: Age\n",
    "- 5.2 Customer Profiling: Income\n",
    "- 5.3 Customer Profiling: Certain goods in the “department_id” column\n",
    "- 5.4 Customer Profiling: Number of dependants\n",
    "- 5.5 Profiling the Ordering Time"
   ]
  },
  {
   "cell_type": "markdown",
   "id": "6fbb48d8",
   "metadata": {},
   "source": [
    "### 1. Import libraries and data"
   ]
  },
  {
   "cell_type": "code",
   "execution_count": 1,
   "id": "44adbdb4",
   "metadata": {},
   "outputs": [],
   "source": [
    "# Import libraries\n",
    "\n",
    "import pandas as pd\n",
    "import numpy as np\n",
    "import os\n",
    "import matplotlib.pyplot as plt\n",
    "import seaborn as sns\n",
    "import scipy"
   ]
  },
  {
   "cell_type": "code",
   "execution_count": 2,
   "id": "7713423f",
   "metadata": {},
   "outputs": [],
   "source": [
    "# Define path\n",
    "\n",
    "path = r'C:\\Users\\Windows 10\\Documents\\04-2023 Instacart Basket Analysis'"
   ]
  },
  {
   "cell_type": "code",
   "execution_count": 3,
   "id": "71a49c2c",
   "metadata": {},
   "outputs": [],
   "source": [
    "# Import data\n",
    "\n",
    "df_project_all = pd.read_pickle(os.path.join(path, '02 Data', 'Prepared Data', 'project_all.pkl'))"
   ]
  },
  {
   "cell_type": "code",
   "execution_count": 4,
   "id": "9482ebc2",
   "metadata": {},
   "outputs": [
    {
     "name": "stdout",
     "output_type": "stream",
     "text": [
      "<class 'pandas.core.frame.DataFrame'>\n",
      "Int64Index: 32404859 entries, 0 to 32404858\n",
      "Data columns (total 34 columns):\n",
      " #   Column                  Dtype   \n",
      "---  ------                  -----   \n",
      " 0   order_id                int64   \n",
      " 1   user_id                 object  \n",
      " 2   order_number            int64   \n",
      " 3   orders_day_of_week      int64   \n",
      " 4   order_hour_of_day       int64   \n",
      " 5   days_since_prior_order  float64 \n",
      " 6   product_id              int64   \n",
      " 7   add_to_cart_order       int64   \n",
      " 8   reordered               int64   \n",
      " 9   product_name            object  \n",
      " 10  aisle_id                int64   \n",
      " 11  department_id           int64   \n",
      " 12  prices                  float64 \n",
      " 13  _merge                  category\n",
      " 14  price_range_loc         object  \n",
      " 15  busiest_day             object  \n",
      " 16  busiest_days            object  \n",
      " 17  busiest_period_of_day   object  \n",
      " 18  max_order               int64   \n",
      " 19  loyalty_flag            object  \n",
      " 20  average_price           float64 \n",
      " 21  spending_flag           object  \n",
      " 22  median_prior_orders     float64 \n",
      " 23  order_frequency_flag    object  \n",
      " 24  gender                  object  \n",
      " 25  state                   object  \n",
      " 26  age                     int64   \n",
      " 27  date_joined             object  \n",
      " 28  dependants_number       int64   \n",
      " 29  family_status           object  \n",
      " 30  income                  int64   \n",
      " 31  age_group               object  \n",
      " 32  region                  object  \n",
      " 33  income_group            object  \n",
      "dtypes: category(1), float64(4), int64(13), object(16)\n",
      "memory usage: 8.2+ GB\n"
     ]
    }
   ],
   "source": [
    "df_project_all.info()"
   ]
  },
  {
   "cell_type": "markdown",
   "id": "b7ec2f2d",
   "metadata": {},
   "source": [
    "### 5.3 Customer Profiling: Certain goods in the “department_id” column"
   ]
  },
  {
   "cell_type": "code",
   "execution_count": 5,
   "id": "7e7d6572",
   "metadata": {},
   "outputs": [],
   "source": [
    "# Importing the department.csv\n",
    "\n",
    "df_dept = pd.read_csv(os.path.join(path, '02 Data', 'Prepared Data', 'departments_wrangled.csv'))"
   ]
  },
  {
   "cell_type": "code",
   "execution_count": 6,
   "id": "af7be4da",
   "metadata": {},
   "outputs": [
    {
     "data": {
      "text/html": [
       "<div>\n",
       "<style scoped>\n",
       "    .dataframe tbody tr th:only-of-type {\n",
       "        vertical-align: middle;\n",
       "    }\n",
       "\n",
       "    .dataframe tbody tr th {\n",
       "        vertical-align: top;\n",
       "    }\n",
       "\n",
       "    .dataframe thead th {\n",
       "        text-align: right;\n",
       "    }\n",
       "</style>\n",
       "<table border=\"1\" class=\"dataframe\">\n",
       "  <thead>\n",
       "    <tr style=\"text-align: right;\">\n",
       "      <th></th>\n",
       "      <th>Unnamed: 0</th>\n",
       "      <th>department</th>\n",
       "    </tr>\n",
       "  </thead>\n",
       "  <tbody>\n",
       "    <tr>\n",
       "      <th>0</th>\n",
       "      <td>1</td>\n",
       "      <td>frozen</td>\n",
       "    </tr>\n",
       "    <tr>\n",
       "      <th>1</th>\n",
       "      <td>2</td>\n",
       "      <td>other</td>\n",
       "    </tr>\n",
       "    <tr>\n",
       "      <th>2</th>\n",
       "      <td>3</td>\n",
       "      <td>bakery</td>\n",
       "    </tr>\n",
       "    <tr>\n",
       "      <th>3</th>\n",
       "      <td>4</td>\n",
       "      <td>produce</td>\n",
       "    </tr>\n",
       "    <tr>\n",
       "      <th>4</th>\n",
       "      <td>5</td>\n",
       "      <td>alcohol</td>\n",
       "    </tr>\n",
       "  </tbody>\n",
       "</table>\n",
       "</div>"
      ],
      "text/plain": [
       "   Unnamed: 0 department\n",
       "0           1     frozen\n",
       "1           2      other\n",
       "2           3     bakery\n",
       "3           4    produce\n",
       "4           5    alcohol"
      ]
     },
     "execution_count": 6,
     "metadata": {},
     "output_type": "execute_result"
    }
   ],
   "source": [
    "df_dept.head()"
   ]
  },
  {
   "cell_type": "code",
   "execution_count": 7,
   "id": "613278e0",
   "metadata": {},
   "outputs": [
    {
     "data": {
      "text/html": [
       "<div>\n",
       "<style scoped>\n",
       "    .dataframe tbody tr th:only-of-type {\n",
       "        vertical-align: middle;\n",
       "    }\n",
       "\n",
       "    .dataframe tbody tr th {\n",
       "        vertical-align: top;\n",
       "    }\n",
       "\n",
       "    .dataframe thead th {\n",
       "        text-align: right;\n",
       "    }\n",
       "</style>\n",
       "<table border=\"1\" class=\"dataframe\">\n",
       "  <thead>\n",
       "    <tr style=\"text-align: right;\">\n",
       "      <th></th>\n",
       "      <th>department_id</th>\n",
       "      <th>department</th>\n",
       "    </tr>\n",
       "  </thead>\n",
       "  <tbody>\n",
       "    <tr>\n",
       "      <th>0</th>\n",
       "      <td>1</td>\n",
       "      <td>frozen</td>\n",
       "    </tr>\n",
       "    <tr>\n",
       "      <th>1</th>\n",
       "      <td>2</td>\n",
       "      <td>other</td>\n",
       "    </tr>\n",
       "    <tr>\n",
       "      <th>2</th>\n",
       "      <td>3</td>\n",
       "      <td>bakery</td>\n",
       "    </tr>\n",
       "    <tr>\n",
       "      <th>3</th>\n",
       "      <td>4</td>\n",
       "      <td>produce</td>\n",
       "    </tr>\n",
       "    <tr>\n",
       "      <th>4</th>\n",
       "      <td>5</td>\n",
       "      <td>alcohol</td>\n",
       "    </tr>\n",
       "    <tr>\n",
       "      <th>5</th>\n",
       "      <td>6</td>\n",
       "      <td>international</td>\n",
       "    </tr>\n",
       "    <tr>\n",
       "      <th>6</th>\n",
       "      <td>7</td>\n",
       "      <td>beverages</td>\n",
       "    </tr>\n",
       "    <tr>\n",
       "      <th>7</th>\n",
       "      <td>8</td>\n",
       "      <td>pets</td>\n",
       "    </tr>\n",
       "    <tr>\n",
       "      <th>8</th>\n",
       "      <td>9</td>\n",
       "      <td>dry goods pasta</td>\n",
       "    </tr>\n",
       "    <tr>\n",
       "      <th>9</th>\n",
       "      <td>10</td>\n",
       "      <td>bulk</td>\n",
       "    </tr>\n",
       "    <tr>\n",
       "      <th>10</th>\n",
       "      <td>11</td>\n",
       "      <td>personal care</td>\n",
       "    </tr>\n",
       "    <tr>\n",
       "      <th>11</th>\n",
       "      <td>12</td>\n",
       "      <td>meat seafood</td>\n",
       "    </tr>\n",
       "    <tr>\n",
       "      <th>12</th>\n",
       "      <td>13</td>\n",
       "      <td>pantry</td>\n",
       "    </tr>\n",
       "    <tr>\n",
       "      <th>13</th>\n",
       "      <td>14</td>\n",
       "      <td>breakfast</td>\n",
       "    </tr>\n",
       "    <tr>\n",
       "      <th>14</th>\n",
       "      <td>15</td>\n",
       "      <td>canned goods</td>\n",
       "    </tr>\n",
       "    <tr>\n",
       "      <th>15</th>\n",
       "      <td>16</td>\n",
       "      <td>dairy eggs</td>\n",
       "    </tr>\n",
       "    <tr>\n",
       "      <th>16</th>\n",
       "      <td>17</td>\n",
       "      <td>household</td>\n",
       "    </tr>\n",
       "    <tr>\n",
       "      <th>17</th>\n",
       "      <td>18</td>\n",
       "      <td>babies</td>\n",
       "    </tr>\n",
       "    <tr>\n",
       "      <th>18</th>\n",
       "      <td>19</td>\n",
       "      <td>snacks</td>\n",
       "    </tr>\n",
       "    <tr>\n",
       "      <th>19</th>\n",
       "      <td>20</td>\n",
       "      <td>deli</td>\n",
       "    </tr>\n",
       "    <tr>\n",
       "      <th>20</th>\n",
       "      <td>21</td>\n",
       "      <td>missing</td>\n",
       "    </tr>\n",
       "  </tbody>\n",
       "</table>\n",
       "</div>"
      ],
      "text/plain": [
       "    department_id       department\n",
       "0               1           frozen\n",
       "1               2            other\n",
       "2               3           bakery\n",
       "3               4          produce\n",
       "4               5          alcohol\n",
       "5               6    international\n",
       "6               7        beverages\n",
       "7               8             pets\n",
       "8               9  dry goods pasta\n",
       "9              10             bulk\n",
       "10             11    personal care\n",
       "11             12     meat seafood\n",
       "12             13           pantry\n",
       "13             14        breakfast\n",
       "14             15     canned goods\n",
       "15             16       dairy eggs\n",
       "16             17        household\n",
       "17             18           babies\n",
       "18             19           snacks\n",
       "19             20             deli\n",
       "20             21          missing"
      ]
     },
     "execution_count": 7,
     "metadata": {},
     "output_type": "execute_result"
    }
   ],
   "source": [
    "# Renaming the column name\n",
    "\n",
    "df_dept.rename(columns = {'Unnamed: 0' : 'department_id'}, inplace = True)\n",
    "df_dept"
   ]
  },
  {
   "cell_type": "code",
   "execution_count": 8,
   "id": "4f922f82",
   "metadata": {},
   "outputs": [
    {
     "data": {
      "text/plain": [
       "0    7\n",
       "1    7\n",
       "2    7\n",
       "3    7\n",
       "4    7\n",
       "Name: department_id, dtype: int64"
      ]
     },
     "execution_count": 8,
     "metadata": {},
     "output_type": "execute_result"
    }
   ],
   "source": [
    "df_project_all['department_id'].head()"
   ]
  },
  {
   "cell_type": "code",
   "execution_count": 9,
   "id": "4c0f3729",
   "metadata": {},
   "outputs": [],
   "source": [
    "# Due to a memory error, I couldn't merge df_dept and df_project_all, therefore I used another method by adding one column using a for loop\n",
    "# Create a new variable (department) and assign department_id to department variable using for loop\n",
    "\n",
    "department = []\n",
    "\n",
    "for value in df_project_all['department_id']:\n",
    "    if value == 1:\n",
    "        department.append('frozen')\n",
    "    elif value == 2:\n",
    "        department.append('other')\n",
    "    elif value == 3:\n",
    "        department.append('bakery')\n",
    "    elif value == 4:\n",
    "        department.append('produce')\n",
    "    elif value == 5:\n",
    "        department.append('alcohol')\n",
    "    elif value == 6:\n",
    "        department.append('international')\n",
    "    elif value == 7:\n",
    "        department.append('beverages')\n",
    "    elif value == 8:\n",
    "        department.append('pets')\n",
    "    elif value == 9:\n",
    "        department.append('dry goods pasta')\n",
    "    elif value == 10:\n",
    "        department.append('bulk')\n",
    "    elif value == 11:\n",
    "        department.append('personal care')\n",
    "    elif value == 12:\n",
    "        department.append('meat seafood')\n",
    "    elif value == 13:\n",
    "        department.append('pantry')\n",
    "    elif value == 14:\n",
    "        department.append('breakfast')\n",
    "    elif value == 15:\n",
    "        department.append('canned goods')\n",
    "    elif value == 16:\n",
    "        department.append('dairy eggs')\n",
    "    elif value == 17:\n",
    "        department.append('household')\n",
    "    elif value == 18:\n",
    "        department.append('babies')\n",
    "    elif value == 19:\n",
    "        department.append('snacks')\n",
    "    elif value == 20:\n",
    "        department.append('deli')\n",
    "    else:\n",
    "        department.append('missing')"
   ]
  },
  {
   "cell_type": "code",
   "execution_count": 10,
   "id": "40ab9aaf",
   "metadata": {},
   "outputs": [],
   "source": [
    "# Insert department as column in df_project_all\n",
    "\n",
    "df_project_all['department'] = department"
   ]
  },
  {
   "cell_type": "code",
   "execution_count": 11,
   "id": "3eed296d",
   "metadata": {},
   "outputs": [
    {
     "name": "stdout",
     "output_type": "stream",
     "text": [
      "<class 'pandas.core.frame.DataFrame'>\n",
      "Int64Index: 32404859 entries, 0 to 32404858\n",
      "Data columns (total 35 columns):\n",
      " #   Column                  Dtype   \n",
      "---  ------                  -----   \n",
      " 0   order_id                int64   \n",
      " 1   user_id                 object  \n",
      " 2   order_number            int64   \n",
      " 3   orders_day_of_week      int64   \n",
      " 4   order_hour_of_day       int64   \n",
      " 5   days_since_prior_order  float64 \n",
      " 6   product_id              int64   \n",
      " 7   add_to_cart_order       int64   \n",
      " 8   reordered               int64   \n",
      " 9   product_name            object  \n",
      " 10  aisle_id                int64   \n",
      " 11  department_id           int64   \n",
      " 12  prices                  float64 \n",
      " 13  _merge                  category\n",
      " 14  price_range_loc         object  \n",
      " 15  busiest_day             object  \n",
      " 16  busiest_days            object  \n",
      " 17  busiest_period_of_day   object  \n",
      " 18  max_order               int64   \n",
      " 19  loyalty_flag            object  \n",
      " 20  average_price           float64 \n",
      " 21  spending_flag           object  \n",
      " 22  median_prior_orders     float64 \n",
      " 23  order_frequency_flag    object  \n",
      " 24  gender                  object  \n",
      " 25  state                   object  \n",
      " 26  age                     int64   \n",
      " 27  date_joined             object  \n",
      " 28  dependants_number       int64   \n",
      " 29  family_status           object  \n",
      " 30  income                  int64   \n",
      " 31  age_group               object  \n",
      " 32  region                  object  \n",
      " 33  income_group            object  \n",
      " 34  department              object  \n",
      "dtypes: category(1), float64(4), int64(13), object(17)\n",
      "memory usage: 8.5+ GB\n"
     ]
    }
   ],
   "source": [
    "df_project_all.info()"
   ]
  },
  {
   "cell_type": "code",
   "execution_count": 12,
   "id": "7d89033a",
   "metadata": {},
   "outputs": [
    {
     "data": {
      "text/html": [
       "<div>\n",
       "<style scoped>\n",
       "    .dataframe tbody tr th:only-of-type {\n",
       "        vertical-align: middle;\n",
       "    }\n",
       "\n",
       "    .dataframe tbody tr th {\n",
       "        vertical-align: top;\n",
       "    }\n",
       "\n",
       "    .dataframe thead th {\n",
       "        text-align: right;\n",
       "    }\n",
       "</style>\n",
       "<table border=\"1\" class=\"dataframe\">\n",
       "  <thead>\n",
       "    <tr style=\"text-align: right;\">\n",
       "      <th></th>\n",
       "      <th>order_id</th>\n",
       "      <th>user_id</th>\n",
       "      <th>order_number</th>\n",
       "      <th>orders_day_of_week</th>\n",
       "      <th>order_hour_of_day</th>\n",
       "      <th>days_since_prior_order</th>\n",
       "      <th>product_id</th>\n",
       "      <th>add_to_cart_order</th>\n",
       "      <th>reordered</th>\n",
       "      <th>product_name</th>\n",
       "      <th>...</th>\n",
       "      <th>state</th>\n",
       "      <th>age</th>\n",
       "      <th>date_joined</th>\n",
       "      <th>dependants_number</th>\n",
       "      <th>family_status</th>\n",
       "      <th>income</th>\n",
       "      <th>age_group</th>\n",
       "      <th>region</th>\n",
       "      <th>income_group</th>\n",
       "      <th>department</th>\n",
       "    </tr>\n",
       "  </thead>\n",
       "  <tbody>\n",
       "    <tr>\n",
       "      <th>0</th>\n",
       "      <td>2539329</td>\n",
       "      <td>1</td>\n",
       "      <td>1</td>\n",
       "      <td>2</td>\n",
       "      <td>8</td>\n",
       "      <td>NaN</td>\n",
       "      <td>196</td>\n",
       "      <td>1</td>\n",
       "      <td>0</td>\n",
       "      <td>Soda</td>\n",
       "      <td>...</td>\n",
       "      <td>Alabama</td>\n",
       "      <td>31</td>\n",
       "      <td>2/17/2019</td>\n",
       "      <td>3</td>\n",
       "      <td>married</td>\n",
       "      <td>40423</td>\n",
       "      <td>30-39 years</td>\n",
       "      <td>South</td>\n",
       "      <td>Low-income</td>\n",
       "      <td>beverages</td>\n",
       "    </tr>\n",
       "    <tr>\n",
       "      <th>1</th>\n",
       "      <td>2398795</td>\n",
       "      <td>1</td>\n",
       "      <td>2</td>\n",
       "      <td>3</td>\n",
       "      <td>7</td>\n",
       "      <td>15.0</td>\n",
       "      <td>196</td>\n",
       "      <td>1</td>\n",
       "      <td>1</td>\n",
       "      <td>Soda</td>\n",
       "      <td>...</td>\n",
       "      <td>Alabama</td>\n",
       "      <td>31</td>\n",
       "      <td>2/17/2019</td>\n",
       "      <td>3</td>\n",
       "      <td>married</td>\n",
       "      <td>40423</td>\n",
       "      <td>30-39 years</td>\n",
       "      <td>South</td>\n",
       "      <td>Low-income</td>\n",
       "      <td>beverages</td>\n",
       "    </tr>\n",
       "    <tr>\n",
       "      <th>2</th>\n",
       "      <td>473747</td>\n",
       "      <td>1</td>\n",
       "      <td>3</td>\n",
       "      <td>3</td>\n",
       "      <td>12</td>\n",
       "      <td>21.0</td>\n",
       "      <td>196</td>\n",
       "      <td>1</td>\n",
       "      <td>1</td>\n",
       "      <td>Soda</td>\n",
       "      <td>...</td>\n",
       "      <td>Alabama</td>\n",
       "      <td>31</td>\n",
       "      <td>2/17/2019</td>\n",
       "      <td>3</td>\n",
       "      <td>married</td>\n",
       "      <td>40423</td>\n",
       "      <td>30-39 years</td>\n",
       "      <td>South</td>\n",
       "      <td>Low-income</td>\n",
       "      <td>beverages</td>\n",
       "    </tr>\n",
       "    <tr>\n",
       "      <th>3</th>\n",
       "      <td>2254736</td>\n",
       "      <td>1</td>\n",
       "      <td>4</td>\n",
       "      <td>4</td>\n",
       "      <td>7</td>\n",
       "      <td>29.0</td>\n",
       "      <td>196</td>\n",
       "      <td>1</td>\n",
       "      <td>1</td>\n",
       "      <td>Soda</td>\n",
       "      <td>...</td>\n",
       "      <td>Alabama</td>\n",
       "      <td>31</td>\n",
       "      <td>2/17/2019</td>\n",
       "      <td>3</td>\n",
       "      <td>married</td>\n",
       "      <td>40423</td>\n",
       "      <td>30-39 years</td>\n",
       "      <td>South</td>\n",
       "      <td>Low-income</td>\n",
       "      <td>beverages</td>\n",
       "    </tr>\n",
       "    <tr>\n",
       "      <th>4</th>\n",
       "      <td>431534</td>\n",
       "      <td>1</td>\n",
       "      <td>5</td>\n",
       "      <td>4</td>\n",
       "      <td>15</td>\n",
       "      <td>28.0</td>\n",
       "      <td>196</td>\n",
       "      <td>1</td>\n",
       "      <td>1</td>\n",
       "      <td>Soda</td>\n",
       "      <td>...</td>\n",
       "      <td>Alabama</td>\n",
       "      <td>31</td>\n",
       "      <td>2/17/2019</td>\n",
       "      <td>3</td>\n",
       "      <td>married</td>\n",
       "      <td>40423</td>\n",
       "      <td>30-39 years</td>\n",
       "      <td>South</td>\n",
       "      <td>Low-income</td>\n",
       "      <td>beverages</td>\n",
       "    </tr>\n",
       "  </tbody>\n",
       "</table>\n",
       "<p>5 rows × 35 columns</p>\n",
       "</div>"
      ],
      "text/plain": [
       "   order_id user_id  order_number  orders_day_of_week  order_hour_of_day  \\\n",
       "0   2539329       1             1                   2                  8   \n",
       "1   2398795       1             2                   3                  7   \n",
       "2    473747       1             3                   3                 12   \n",
       "3   2254736       1             4                   4                  7   \n",
       "4    431534       1             5                   4                 15   \n",
       "\n",
       "   days_since_prior_order  product_id  add_to_cart_order  reordered  \\\n",
       "0                     NaN         196                  1          0   \n",
       "1                    15.0         196                  1          1   \n",
       "2                    21.0         196                  1          1   \n",
       "3                    29.0         196                  1          1   \n",
       "4                    28.0         196                  1          1   \n",
       "\n",
       "  product_name  ...    state  age  date_joined dependants_number  \\\n",
       "0         Soda  ...  Alabama   31    2/17/2019                 3   \n",
       "1         Soda  ...  Alabama   31    2/17/2019                 3   \n",
       "2         Soda  ...  Alabama   31    2/17/2019                 3   \n",
       "3         Soda  ...  Alabama   31    2/17/2019                 3   \n",
       "4         Soda  ...  Alabama   31    2/17/2019                 3   \n",
       "\n",
       "  family_status income    age_group region  income_group department  \n",
       "0       married  40423  30-39 years  South    Low-income  beverages  \n",
       "1       married  40423  30-39 years  South    Low-income  beverages  \n",
       "2       married  40423  30-39 years  South    Low-income  beverages  \n",
       "3       married  40423  30-39 years  South    Low-income  beverages  \n",
       "4       married  40423  30-39 years  South    Low-income  beverages  \n",
       "\n",
       "[5 rows x 35 columns]"
      ]
     },
     "execution_count": 12,
     "metadata": {},
     "output_type": "execute_result"
    }
   ],
   "source": [
    "df_project_all.head()"
   ]
  },
  {
   "cell_type": "code",
   "execution_count": 13,
   "id": "3240f767",
   "metadata": {},
   "outputs": [
    {
     "data": {
      "text/html": [
       "<div>\n",
       "<style scoped>\n",
       "    .dataframe tbody tr th:only-of-type {\n",
       "        vertical-align: middle;\n",
       "    }\n",
       "\n",
       "    .dataframe tbody tr th {\n",
       "        vertical-align: top;\n",
       "    }\n",
       "\n",
       "    .dataframe thead th {\n",
       "        text-align: right;\n",
       "    }\n",
       "</style>\n",
       "<table border=\"1\" class=\"dataframe\">\n",
       "  <thead>\n",
       "    <tr style=\"text-align: right;\">\n",
       "      <th>age_group</th>\n",
       "      <th>30-39 years</th>\n",
       "      <th>40-49 years</th>\n",
       "      <th>50-59</th>\n",
       "      <th>60-69 years</th>\n",
       "      <th>70+ years</th>\n",
       "      <th>Less than 30 years</th>\n",
       "    </tr>\n",
       "    <tr>\n",
       "      <th>department</th>\n",
       "      <th></th>\n",
       "      <th></th>\n",
       "      <th></th>\n",
       "      <th></th>\n",
       "      <th></th>\n",
       "      <th></th>\n",
       "    </tr>\n",
       "  </thead>\n",
       "  <tbody>\n",
       "    <tr>\n",
       "      <th>alcohol</th>\n",
       "      <td>25118</td>\n",
       "      <td>23973</td>\n",
       "      <td>24170</td>\n",
       "      <td>22837</td>\n",
       "      <td>27827</td>\n",
       "      <td>29771</td>\n",
       "    </tr>\n",
       "    <tr>\n",
       "      <th>babies</th>\n",
       "      <td>65909</td>\n",
       "      <td>69248</td>\n",
       "      <td>65269</td>\n",
       "      <td>64885</td>\n",
       "      <td>78027</td>\n",
       "      <td>80464</td>\n",
       "    </tr>\n",
       "    <tr>\n",
       "      <th>bakery</th>\n",
       "      <td>183863</td>\n",
       "      <td>184533</td>\n",
       "      <td>183655</td>\n",
       "      <td>180137</td>\n",
       "      <td>219883</td>\n",
       "      <td>220357</td>\n",
       "    </tr>\n",
       "    <tr>\n",
       "      <th>beverages</th>\n",
       "      <td>414617</td>\n",
       "      <td>425165</td>\n",
       "      <td>425090</td>\n",
       "      <td>412810</td>\n",
       "      <td>510898</td>\n",
       "      <td>499543</td>\n",
       "    </tr>\n",
       "    <tr>\n",
       "      <th>breakfast</th>\n",
       "      <td>108948</td>\n",
       "      <td>111180</td>\n",
       "      <td>109714</td>\n",
       "      <td>106557</td>\n",
       "      <td>132340</td>\n",
       "      <td>134294</td>\n",
       "    </tr>\n",
       "    <tr>\n",
       "      <th>bulk</th>\n",
       "      <td>5396</td>\n",
       "      <td>5581</td>\n",
       "      <td>5187</td>\n",
       "      <td>5368</td>\n",
       "      <td>6435</td>\n",
       "      <td>6606</td>\n",
       "    </tr>\n",
       "    <tr>\n",
       "      <th>canned goods</th>\n",
       "      <td>166296</td>\n",
       "      <td>167484</td>\n",
       "      <td>167598</td>\n",
       "      <td>165143</td>\n",
       "      <td>198595</td>\n",
       "      <td>202942</td>\n",
       "    </tr>\n",
       "    <tr>\n",
       "      <th>dairy eggs</th>\n",
       "      <td>852077</td>\n",
       "      <td>854998</td>\n",
       "      <td>835589</td>\n",
       "      <td>823787</td>\n",
       "      <td>1014295</td>\n",
       "      <td>1018001</td>\n",
       "    </tr>\n",
       "    <tr>\n",
       "      <th>deli</th>\n",
       "      <td>164566</td>\n",
       "      <td>165955</td>\n",
       "      <td>163792</td>\n",
       "      <td>162935</td>\n",
       "      <td>196567</td>\n",
       "      <td>197434</td>\n",
       "    </tr>\n",
       "    <tr>\n",
       "      <th>dry goods pasta</th>\n",
       "      <td>134651</td>\n",
       "      <td>135314</td>\n",
       "      <td>137033</td>\n",
       "      <td>133132</td>\n",
       "      <td>162070</td>\n",
       "      <td>164427</td>\n",
       "    </tr>\n",
       "    <tr>\n",
       "      <th>frozen</th>\n",
       "      <td>346212</td>\n",
       "      <td>350933</td>\n",
       "      <td>350476</td>\n",
       "      <td>347697</td>\n",
       "      <td>419912</td>\n",
       "      <td>419513</td>\n",
       "    </tr>\n",
       "    <tr>\n",
       "      <th>household</th>\n",
       "      <td>114751</td>\n",
       "      <td>116897</td>\n",
       "      <td>115063</td>\n",
       "      <td>113881</td>\n",
       "      <td>140258</td>\n",
       "      <td>137816</td>\n",
       "    </tr>\n",
       "    <tr>\n",
       "      <th>international</th>\n",
       "      <td>42114</td>\n",
       "      <td>42829</td>\n",
       "      <td>41953</td>\n",
       "      <td>40836</td>\n",
       "      <td>50194</td>\n",
       "      <td>51327</td>\n",
       "    </tr>\n",
       "    <tr>\n",
       "      <th>meat seafood</th>\n",
       "      <td>109604</td>\n",
       "      <td>111619</td>\n",
       "      <td>110445</td>\n",
       "      <td>110607</td>\n",
       "      <td>133754</td>\n",
       "      <td>132898</td>\n",
       "    </tr>\n",
       "    <tr>\n",
       "      <th>missing</th>\n",
       "      <td>10637</td>\n",
       "      <td>11153</td>\n",
       "      <td>10609</td>\n",
       "      <td>10525</td>\n",
       "      <td>12794</td>\n",
       "      <td>13427</td>\n",
       "    </tr>\n",
       "    <tr>\n",
       "      <th>other</th>\n",
       "      <td>5547</td>\n",
       "      <td>5589</td>\n",
       "      <td>5741</td>\n",
       "      <td>5717</td>\n",
       "      <td>6534</td>\n",
       "      <td>7163</td>\n",
       "    </tr>\n",
       "    <tr>\n",
       "      <th>pantry</th>\n",
       "      <td>292430</td>\n",
       "      <td>295996</td>\n",
       "      <td>293296</td>\n",
       "      <td>290708</td>\n",
       "      <td>351129</td>\n",
       "      <td>351810</td>\n",
       "    </tr>\n",
       "    <tr>\n",
       "      <th>personal care</th>\n",
       "      <td>68964</td>\n",
       "      <td>71777</td>\n",
       "      <td>71241</td>\n",
       "      <td>68996</td>\n",
       "      <td>82873</td>\n",
       "      <td>83721</td>\n",
       "    </tr>\n",
       "    <tr>\n",
       "      <th>pets</th>\n",
       "      <td>14377</td>\n",
       "      <td>15226</td>\n",
       "      <td>15605</td>\n",
       "      <td>15574</td>\n",
       "      <td>17819</td>\n",
       "      <td>19115</td>\n",
       "    </tr>\n",
       "    <tr>\n",
       "      <th>produce</th>\n",
       "      <td>1492532</td>\n",
       "      <td>1494172</td>\n",
       "      <td>1477090</td>\n",
       "      <td>1465118</td>\n",
       "      <td>1775481</td>\n",
       "      <td>1774898</td>\n",
       "    </tr>\n",
       "    <tr>\n",
       "      <th>snacks</th>\n",
       "      <td>455142</td>\n",
       "      <td>449615</td>\n",
       "      <td>455559</td>\n",
       "      <td>440014</td>\n",
       "      <td>542306</td>\n",
       "      <td>544914</td>\n",
       "    </tr>\n",
       "  </tbody>\n",
       "</table>\n",
       "</div>"
      ],
      "text/plain": [
       "age_group        30-39 years  40-49 years    50-59  60-69 years  70+ years  \\\n",
       "department                                                                   \n",
       "alcohol                25118        23973    24170        22837      27827   \n",
       "babies                 65909        69248    65269        64885      78027   \n",
       "bakery                183863       184533   183655       180137     219883   \n",
       "beverages             414617       425165   425090       412810     510898   \n",
       "breakfast             108948       111180   109714       106557     132340   \n",
       "bulk                    5396         5581     5187         5368       6435   \n",
       "canned goods          166296       167484   167598       165143     198595   \n",
       "dairy eggs            852077       854998   835589       823787    1014295   \n",
       "deli                  164566       165955   163792       162935     196567   \n",
       "dry goods pasta       134651       135314   137033       133132     162070   \n",
       "frozen                346212       350933   350476       347697     419912   \n",
       "household             114751       116897   115063       113881     140258   \n",
       "international          42114        42829    41953        40836      50194   \n",
       "meat seafood          109604       111619   110445       110607     133754   \n",
       "missing                10637        11153    10609        10525      12794   \n",
       "other                   5547         5589     5741         5717       6534   \n",
       "pantry                292430       295996   293296       290708     351129   \n",
       "personal care          68964        71777    71241        68996      82873   \n",
       "pets                   14377        15226    15605        15574      17819   \n",
       "produce              1492532      1494172  1477090      1465118    1775481   \n",
       "snacks                455142       449615   455559       440014     542306   \n",
       "\n",
       "age_group        Less than 30 years  \n",
       "department                           \n",
       "alcohol                       29771  \n",
       "babies                        80464  \n",
       "bakery                       220357  \n",
       "beverages                    499543  \n",
       "breakfast                    134294  \n",
       "bulk                           6606  \n",
       "canned goods                 202942  \n",
       "dairy eggs                  1018001  \n",
       "deli                         197434  \n",
       "dry goods pasta              164427  \n",
       "frozen                       419513  \n",
       "household                    137816  \n",
       "international                 51327  \n",
       "meat seafood                 132898  \n",
       "missing                       13427  \n",
       "other                          7163  \n",
       "pantry                       351810  \n",
       "personal care                 83721  \n",
       "pets                          19115  \n",
       "produce                     1774898  \n",
       "snacks                       544914  "
      ]
     },
     "execution_count": 13,
     "metadata": {},
     "output_type": "execute_result"
    }
   ],
   "source": [
    "# Create a crosstab between the 'department' and 'age_group' column\n",
    "\n",
    "crosstab_department_age = pd.crosstab(df_project_all['department'], df_project_all['age_group'], dropna = False)\n",
    "crosstab_department_age"
   ]
  },
  {
   "cell_type": "code",
   "execution_count": 14,
   "id": "dee2665b",
   "metadata": {},
   "outputs": [
    {
     "data": {
      "image/png": "[encoded data removed]",
      "text/plain": [
       "<Figure size 640x480 with 1 Axes>"
      ]
     },
     "metadata": {},
     "output_type": "display_data"
    }
   ],
   "source": [
    "# Creating a bar chart of department divided by age group\n",
    "\n",
    "bar_department_age = crosstab_department_age.plot.barh(color = sns.color_palette('Blues', 6))\n",
    "plt.ylabel('Department')\n",
    "plt.legend()\n",
    "plt.title('Department by Age Group', fontweight = 'bold')\n",
    "plt.show()"
   ]
  },
  {
   "cell_type": "code",
   "execution_count": 72,
   "id": "f86d0a37",
   "metadata": {},
   "outputs": [],
   "source": [
    "# Exporting bar_department_age\n",
    "\n",
    "bar_department_age.figure.savefig(os.path.join(path, '04 Analysis','Visualizations', 'bar_department_age.png'))"
   ]
  },
  {
   "cell_type": "code",
   "execution_count": 16,
   "id": "4e40af21",
   "metadata": {},
   "outputs": [
    {
     "data": {
      "image/png": "[encoded data removed]",
      "text/plain": [
       "<Figure size 640x480 with 1 Axes>"
      ]
     },
     "metadata": {},
     "output_type": "display_data"
    }
   ],
   "source": [
    "# Creating a stacked bar chart of department divided by age group\n",
    "\n",
    "bar_department_age2 = crosstab_department_age.plot.barh(stacked = True, color = sns.color_palette('Blues', 6))\n",
    "plt.ylabel('Department')\n",
    "plt.legend()\n",
    "plt.title('Department by Age Group', fontweight = 'bold')\n",
    "plt.show()"
   ]
  },
  {
   "cell_type": "code",
   "execution_count": 73,
   "id": "44b04231",
   "metadata": {},
   "outputs": [],
   "source": [
    "# Exporting bar_department_age2\n",
    "\n",
    "bar_department_age2.figure.savefig(os.path.join(path, '04 Analysis','Visualizations', 'bar_department_age2.png'))"
   ]
  },
  {
   "cell_type": "markdown",
   "id": "4bd42096",
   "metadata": {},
   "source": [
    "#### Observation:\n",
    "1. Through the crosstab and the images above, I can see that most of the products are dominated by people aged less than 30 years and over 70 years\n",
    "2. The best seller products come from produce followed by the dairy eggs department"
   ]
  },
  {
   "cell_type": "code",
   "execution_count": 17,
   "id": "f2ab62d4",
   "metadata": {},
   "outputs": [
    {
     "data": {
      "text/html": [
       "<div>\n",
       "<style scoped>\n",
       "    .dataframe tbody tr th:only-of-type {\n",
       "        vertical-align: middle;\n",
       "    }\n",
       "\n",
       "    .dataframe tbody tr th {\n",
       "        vertical-align: top;\n",
       "    }\n",
       "\n",
       "    .dataframe thead th {\n",
       "        text-align: right;\n",
       "    }\n",
       "</style>\n",
       "<table border=\"1\" class=\"dataframe\">\n",
       "  <thead>\n",
       "    <tr style=\"text-align: right;\">\n",
       "      <th>income_group</th>\n",
       "      <th>High-income</th>\n",
       "      <th>Low-income</th>\n",
       "      <th>Moderate-income</th>\n",
       "      <th>Wealthy</th>\n",
       "    </tr>\n",
       "    <tr>\n",
       "      <th>department</th>\n",
       "      <th></th>\n",
       "      <th></th>\n",
       "      <th></th>\n",
       "      <th></th>\n",
       "    </tr>\n",
       "  </thead>\n",
       "  <tbody>\n",
       "    <tr>\n",
       "      <th>alcohol</th>\n",
       "      <td>35725</td>\n",
       "      <td>39747</td>\n",
       "      <td>35231</td>\n",
       "      <td>42993</td>\n",
       "    </tr>\n",
       "    <tr>\n",
       "      <th>babies</th>\n",
       "      <td>112900</td>\n",
       "      <td>86445</td>\n",
       "      <td>115355</td>\n",
       "      <td>109102</td>\n",
       "    </tr>\n",
       "    <tr>\n",
       "      <th>bakery</th>\n",
       "      <td>297400</td>\n",
       "      <td>277183</td>\n",
       "      <td>294559</td>\n",
       "      <td>303286</td>\n",
       "    </tr>\n",
       "    <tr>\n",
       "      <th>beverages</th>\n",
       "      <td>635867</td>\n",
       "      <td>776540</td>\n",
       "      <td>629599</td>\n",
       "      <td>646117</td>\n",
       "    </tr>\n",
       "    <tr>\n",
       "      <th>breakfast</th>\n",
       "      <td>168359</td>\n",
       "      <td>196550</td>\n",
       "      <td>167481</td>\n",
       "      <td>170643</td>\n",
       "    </tr>\n",
       "    <tr>\n",
       "      <th>bulk</th>\n",
       "      <td>8292</td>\n",
       "      <td>9688</td>\n",
       "      <td>8790</td>\n",
       "      <td>7803</td>\n",
       "    </tr>\n",
       "    <tr>\n",
       "      <th>canned goods</th>\n",
       "      <td>276534</td>\n",
       "      <td>235686</td>\n",
       "      <td>275766</td>\n",
       "      <td>280072</td>\n",
       "    </tr>\n",
       "    <tr>\n",
       "      <th>dairy eggs</th>\n",
       "      <td>1370770</td>\n",
       "      <td>1280365</td>\n",
       "      <td>1376476</td>\n",
       "      <td>1371136</td>\n",
       "    </tr>\n",
       "    <tr>\n",
       "      <th>deli</th>\n",
       "      <td>264396</td>\n",
       "      <td>259797</td>\n",
       "      <td>264091</td>\n",
       "      <td>262965</td>\n",
       "    </tr>\n",
       "    <tr>\n",
       "      <th>dry goods pasta</th>\n",
       "      <td>226477</td>\n",
       "      <td>190349</td>\n",
       "      <td>225434</td>\n",
       "      <td>224367</td>\n",
       "    </tr>\n",
       "    <tr>\n",
       "      <th>frozen</th>\n",
       "      <td>560993</td>\n",
       "      <td>539796</td>\n",
       "      <td>564792</td>\n",
       "      <td>569162</td>\n",
       "    </tr>\n",
       "    <tr>\n",
       "      <th>household</th>\n",
       "      <td>179000</td>\n",
       "      <td>194553</td>\n",
       "      <td>178628</td>\n",
       "      <td>186485</td>\n",
       "    </tr>\n",
       "    <tr>\n",
       "      <th>international</th>\n",
       "      <td>69136</td>\n",
       "      <td>60929</td>\n",
       "      <td>70369</td>\n",
       "      <td>68819</td>\n",
       "    </tr>\n",
       "    <tr>\n",
       "      <th>meat seafood</th>\n",
       "      <td>192267</td>\n",
       "      <td>133435</td>\n",
       "      <td>190891</td>\n",
       "      <td>192334</td>\n",
       "    </tr>\n",
       "    <tr>\n",
       "      <th>missing</th>\n",
       "      <td>16814</td>\n",
       "      <td>17071</td>\n",
       "      <td>17812</td>\n",
       "      <td>17448</td>\n",
       "    </tr>\n",
       "    <tr>\n",
       "      <th>other</th>\n",
       "      <td>9020</td>\n",
       "      <td>9065</td>\n",
       "      <td>9049</td>\n",
       "      <td>9157</td>\n",
       "    </tr>\n",
       "    <tr>\n",
       "      <th>pantry</th>\n",
       "      <td>481074</td>\n",
       "      <td>439786</td>\n",
       "      <td>473883</td>\n",
       "      <td>480626</td>\n",
       "    </tr>\n",
       "    <tr>\n",
       "      <th>personal care</th>\n",
       "      <td>110187</td>\n",
       "      <td>114181</td>\n",
       "      <td>111309</td>\n",
       "      <td>111895</td>\n",
       "    </tr>\n",
       "    <tr>\n",
       "      <th>pets</th>\n",
       "      <td>25299</td>\n",
       "      <td>22900</td>\n",
       "      <td>23386</td>\n",
       "      <td>26131</td>\n",
       "    </tr>\n",
       "    <tr>\n",
       "      <th>produce</th>\n",
       "      <td>2435111</td>\n",
       "      <td>2213805</td>\n",
       "      <td>2437208</td>\n",
       "      <td>2393167</td>\n",
       "    </tr>\n",
       "    <tr>\n",
       "      <th>snacks</th>\n",
       "      <td>625529</td>\n",
       "      <td>1003343</td>\n",
       "      <td>631098</td>\n",
       "      <td>627580</td>\n",
       "    </tr>\n",
       "  </tbody>\n",
       "</table>\n",
       "</div>"
      ],
      "text/plain": [
       "income_group     High-income  Low-income  Moderate-income  Wealthy\n",
       "department                                                        \n",
       "alcohol                35725       39747            35231    42993\n",
       "babies                112900       86445           115355   109102\n",
       "bakery                297400      277183           294559   303286\n",
       "beverages             635867      776540           629599   646117\n",
       "breakfast             168359      196550           167481   170643\n",
       "bulk                    8292        9688             8790     7803\n",
       "canned goods          276534      235686           275766   280072\n",
       "dairy eggs           1370770     1280365          1376476  1371136\n",
       "deli                  264396      259797           264091   262965\n",
       "dry goods pasta       226477      190349           225434   224367\n",
       "frozen                560993      539796           564792   569162\n",
       "household             179000      194553           178628   186485\n",
       "international          69136       60929            70369    68819\n",
       "meat seafood          192267      133435           190891   192334\n",
       "missing                16814       17071            17812    17448\n",
       "other                   9020        9065             9049     9157\n",
       "pantry                481074      439786           473883   480626\n",
       "personal care         110187      114181           111309   111895\n",
       "pets                   25299       22900            23386    26131\n",
       "produce              2435111     2213805          2437208  2393167\n",
       "snacks                625529     1003343           631098   627580"
      ]
     },
     "execution_count": 17,
     "metadata": {},
     "output_type": "execute_result"
    }
   ],
   "source": [
    "# Create a crosstab between the 'department' and 'income_group' column\n",
    "\n",
    "crosstab_department_income = pd.crosstab(df_project_all['department'], df_project_all['income_group'], dropna = False)\n",
    "crosstab_department_income"
   ]
  },
  {
   "cell_type": "code",
   "execution_count": 34,
   "id": "a18d9d7f",
   "metadata": {},
   "outputs": [
    {
     "data": {
      "image/png": "[encoded data removed]",
      "text/plain": [
       "<Figure size 640x480 with 1 Axes>"
      ]
     },
     "metadata": {},
     "output_type": "display_data"
    }
   ],
   "source": [
    "# Creating a bar chart of department divided by income group\n",
    "\n",
    "bar_department_income = crosstab_department_income.plot.barh()\n",
    "plt.ylabel('Department')\n",
    "plt.legend()\n",
    "plt.title('Department by Income Group', fontweight = 'bold')\n",
    "plt.show()"
   ]
  },
  {
   "cell_type": "code",
   "execution_count": 74,
   "id": "4c35b78a",
   "metadata": {},
   "outputs": [],
   "source": [
    "# Exporting bar_department_income\n",
    "\n",
    "bar_department_income.figure.savefig(os.path.join(path, '04 Analysis','Visualizations', 'bar_department_income.png'))"
   ]
  },
  {
   "cell_type": "code",
   "execution_count": 19,
   "id": "c882af4d",
   "metadata": {},
   "outputs": [
    {
     "data": {
      "text/html": [
       "<div>\n",
       "<style scoped>\n",
       "    .dataframe tbody tr th:only-of-type {\n",
       "        vertical-align: middle;\n",
       "    }\n",
       "\n",
       "    .dataframe tbody tr th {\n",
       "        vertical-align: top;\n",
       "    }\n",
       "\n",
       "    .dataframe thead th {\n",
       "        text-align: right;\n",
       "    }\n",
       "</style>\n",
       "<table border=\"1\" class=\"dataframe\">\n",
       "  <thead>\n",
       "    <tr style=\"text-align: right;\">\n",
       "      <th>age_group</th>\n",
       "      <th>30-39 years</th>\n",
       "      <th>40-49 years</th>\n",
       "      <th>50-59</th>\n",
       "      <th>60-69 years</th>\n",
       "      <th>70+ years</th>\n",
       "      <th>Less than 30 years</th>\n",
       "    </tr>\n",
       "    <tr>\n",
       "      <th>income_group</th>\n",
       "      <th></th>\n",
       "      <th></th>\n",
       "      <th></th>\n",
       "      <th></th>\n",
       "      <th></th>\n",
       "      <th></th>\n",
       "    </tr>\n",
       "  </thead>\n",
       "  <tbody>\n",
       "    <tr>\n",
       "      <th>High-income</th>\n",
       "      <td>346749</td>\n",
       "      <td>1673885</td>\n",
       "      <td>1786167</td>\n",
       "      <td>1727402</td>\n",
       "      <td>2159887</td>\n",
       "      <td>407060</td>\n",
       "    </tr>\n",
       "    <tr>\n",
       "      <th>Low-income</th>\n",
       "      <td>2347945</td>\n",
       "      <td>824157</td>\n",
       "      <td>691507</td>\n",
       "      <td>654404</td>\n",
       "      <td>791375</td>\n",
       "      <td>2791826</td>\n",
       "    </tr>\n",
       "    <tr>\n",
       "      <th>Moderate-income</th>\n",
       "      <td>2321798</td>\n",
       "      <td>826032</td>\n",
       "      <td>650851</td>\n",
       "      <td>664150</td>\n",
       "      <td>815754</td>\n",
       "      <td>2822622</td>\n",
       "    </tr>\n",
       "    <tr>\n",
       "      <th>Wealthy</th>\n",
       "      <td>57259</td>\n",
       "      <td>1785163</td>\n",
       "      <td>1935650</td>\n",
       "      <td>1941308</td>\n",
       "      <td>2312975</td>\n",
       "      <td>68933</td>\n",
       "    </tr>\n",
       "  </tbody>\n",
       "</table>\n",
       "</div>"
      ],
      "text/plain": [
       "age_group        30-39 years  40-49 years    50-59  60-69 years  70+ years  \\\n",
       "income_group                                                                 \n",
       "High-income           346749      1673885  1786167      1727402    2159887   \n",
       "Low-income           2347945       824157   691507       654404     791375   \n",
       "Moderate-income      2321798       826032   650851       664150     815754   \n",
       "Wealthy                57259      1785163  1935650      1941308    2312975   \n",
       "\n",
       "age_group        Less than 30 years  \n",
       "income_group                         \n",
       "High-income                  407060  \n",
       "Low-income                  2791826  \n",
       "Moderate-income             2822622  \n",
       "Wealthy                       68933  "
      ]
     },
     "execution_count": 19,
     "metadata": {},
     "output_type": "execute_result"
    }
   ],
   "source": [
    "# Recall the crosstab between the 'income_group' and 'age_group' column \n",
    "\n",
    "crosstab_income_age = pd.crosstab(df_project_all['income_group'], df_project_all['age_group'], dropna = False)\n",
    "crosstab_income_age"
   ]
  },
  {
   "cell_type": "code",
   "execution_count": 20,
   "id": "c8bef08c",
   "metadata": {},
   "outputs": [
    {
     "data": {
      "image/png": "[encoded data removed]",
      "text/plain": [
       "<Figure size 640x480 with 1 Axes>"
      ]
     },
     "metadata": {},
     "output_type": "display_data"
    }
   ],
   "source": [
    "# Recreate a data visualization for income group and age group for analysis purpose\n",
    "\n",
    "bar_age_income = crosstab_income_age.plot.barh(color = sns.color_palette('Blues', 6))\n",
    "plt.ylabel('Income Group')\n",
    "plt.legend()\n",
    "plt.title('Income Group by Age Group', fontweight = 'bold')\n",
    "plt.show()"
   ]
  },
  {
   "cell_type": "code",
   "execution_count": 21,
   "id": "aaac5f6a",
   "metadata": {},
   "outputs": [
    {
     "data": {
      "image/png": "[encoded data removed]",
      "text/plain": [
       "<Figure size 640x480 with 1 Axes>"
      ]
     },
     "metadata": {},
     "output_type": "display_data"
    }
   ],
   "source": [
    "# Recreate a data visualization for income group and age group for analysis purpose\n",
    "\n",
    "bar_age_income2 = crosstab_income_age.plot.barh(color = sns.color_palette('Blues', 6))\n",
    "plt.ylabel('Income Group')\n",
    "plt.legend(loc='center left', bbox_to_anchor=(1, 0.5))\n",
    "plt.title('Income Group by Age Group', fontweight = 'bold')\n",
    "plt.show()"
   ]
  },
  {
   "cell_type": "code",
   "execution_count": 75,
   "id": "d0c979ed",
   "metadata": {},
   "outputs": [],
   "source": [
    "# Exporting bar_age_income2\n",
    "\n",
    "bar_age_income2.figure.savefig(os.path.join(path, '04 Analysis','Visualizations', 'bar_age_income2.png'))"
   ]
  },
  {
   "cell_type": "markdown",
   "id": "a9f4d67f",
   "metadata": {},
   "source": [
    "#### Observation: \n",
    "Through the cross tabs and the figures above, it can be seen that the distribution of department results according to income groups is fairly even, except for:\n",
    "- Snacks and beverages: Both departments are dominated by low-income people, the majority of whom are young people and those in their 30s\n",
    "- In contrast, low-income people (young people and those in their 30s) contribute the least income to produce, meat seafood and dairy eggs departments. My assumption is that the prices coming from these three departments are quite expensive as we know in our daily lives (seafood and dairy are expensive) and their incomes are still low. Also some people at young age pay less attention to their health, that's why most of them fall into snack department"
   ]
  },
  {
   "cell_type": "markdown",
   "id": "06165ff2",
   "metadata": {},
   "source": [
    "### 5.4 Customer Profiling: Number of dependants"
   ]
  },
  {
   "cell_type": "code",
   "execution_count": 22,
   "id": "2c3196be",
   "metadata": {},
   "outputs": [
    {
     "data": {
      "text/plain": [
       "count    3.240486e+07\n",
       "mean     1.501896e+00\n",
       "std      1.118865e+00\n",
       "min      0.000000e+00\n",
       "25%      1.000000e+00\n",
       "50%      2.000000e+00\n",
       "75%      3.000000e+00\n",
       "max      3.000000e+00\n",
       "Name: dependants_number, dtype: float64"
      ]
     },
     "execution_count": 22,
     "metadata": {},
     "output_type": "execute_result"
    }
   ],
   "source": [
    "df_project_all['dependants_number'].describe()"
   ]
  },
  {
   "cell_type": "code",
   "execution_count": 23,
   "id": "c27b15b4",
   "metadata": {},
   "outputs": [
    {
     "data": {
      "text/plain": [
       "0    married\n",
       "1    married\n",
       "2    married\n",
       "3    married\n",
       "4    married\n",
       "Name: family_status, dtype: object"
      ]
     },
     "execution_count": 23,
     "metadata": {},
     "output_type": "execute_result"
    }
   ],
   "source": [
    "df_project_all['family_status'].head()"
   ]
  },
  {
   "cell_type": "code",
   "execution_count": 24,
   "id": "66f48b39",
   "metadata": {},
   "outputs": [
    {
     "data": {
      "text/plain": [
       "32404854     single\n",
       "32404855    married\n",
       "32404856    married\n",
       "32404857    married\n",
       "32404858    married\n",
       "Name: family_status, dtype: object"
      ]
     },
     "execution_count": 24,
     "metadata": {},
     "output_type": "execute_result"
    }
   ],
   "source": [
    "df_project_all['family_status'].tail()"
   ]
  },
  {
   "cell_type": "code",
   "execution_count": 30,
   "id": "bf9d1719",
   "metadata": {},
   "outputs": [
    {
     "data": {
      "text/html": [
       "<div>\n",
       "<style scoped>\n",
       "    .dataframe tbody tr th:only-of-type {\n",
       "        vertical-align: middle;\n",
       "    }\n",
       "\n",
       "    .dataframe tbody tr th {\n",
       "        vertical-align: top;\n",
       "    }\n",
       "\n",
       "    .dataframe thead th {\n",
       "        text-align: right;\n",
       "    }\n",
       "</style>\n",
       "<table border=\"1\" class=\"dataframe\">\n",
       "  <thead>\n",
       "    <tr style=\"text-align: right;\">\n",
       "      <th>income_group</th>\n",
       "      <th>High-income</th>\n",
       "      <th>Low-income</th>\n",
       "      <th>Moderate-income</th>\n",
       "      <th>Wealthy</th>\n",
       "    </tr>\n",
       "    <tr>\n",
       "      <th>family_status</th>\n",
       "      <th></th>\n",
       "      <th></th>\n",
       "      <th></th>\n",
       "      <th></th>\n",
       "    </tr>\n",
       "  </thead>\n",
       "  <tbody>\n",
       "    <tr>\n",
       "      <th>divorced/widowed</th>\n",
       "      <td>986160</td>\n",
       "      <td>352814</td>\n",
       "      <td>373721</td>\n",
       "      <td>1059117</td>\n",
       "    </tr>\n",
       "    <tr>\n",
       "      <th>living with parents and siblings</th>\n",
       "      <td>102403</td>\n",
       "      <td>693454</td>\n",
       "      <td>736798</td>\n",
       "      <td>17948</td>\n",
       "    </tr>\n",
       "    <tr>\n",
       "      <th>married</th>\n",
       "      <td>5963347</td>\n",
       "      <td>5385903</td>\n",
       "      <td>5357517</td>\n",
       "      <td>6049986</td>\n",
       "    </tr>\n",
       "    <tr>\n",
       "      <th>single</th>\n",
       "      <td>1049240</td>\n",
       "      <td>1669043</td>\n",
       "      <td>1633171</td>\n",
       "      <td>974237</td>\n",
       "    </tr>\n",
       "  </tbody>\n",
       "</table>\n",
       "</div>"
      ],
      "text/plain": [
       "income_group                      High-income  Low-income  Moderate-income  \\\n",
       "family_status                                                                \n",
       "divorced/widowed                       986160      352814           373721   \n",
       "living with parents and siblings       102403      693454           736798   \n",
       "married                               5963347     5385903          5357517   \n",
       "single                                1049240     1669043          1633171   \n",
       "\n",
       "income_group                      Wealthy  \n",
       "family_status                              \n",
       "divorced/widowed                  1059117  \n",
       "living with parents and siblings    17948  \n",
       "married                           6049986  \n",
       "single                             974237  "
      ]
     },
     "execution_count": 30,
     "metadata": {},
     "output_type": "execute_result"
    }
   ],
   "source": [
    "# Create a crosstab between the 'family_status' and 'income_group' column\n",
    "\n",
    "crosstab_family_status_income = pd.crosstab(df_project_all['family_status'], df_project_all['income_group'], dropna = False)\n",
    "crosstab_family_status_income"
   ]
  },
  {
   "cell_type": "code",
   "execution_count": 35,
   "id": "dbd43750",
   "metadata": {},
   "outputs": [
    {
     "data": {
      "image/png": "[encoded data removed]",
      "text/plain": [
       "<Figure size 640x480 with 1 Axes>"
      ]
     },
     "metadata": {},
     "output_type": "display_data"
    }
   ],
   "source": [
    "# Creating a bar chart of family status divided by income group\n",
    "\n",
    "\n",
    "bar_family_status_income = crosstab_family_status_income.plot.barh()\n",
    "plt.ylabel('Family Status')\n",
    "plt.legend(loc='center left', bbox_to_anchor=(1, 0.5))\n",
    "plt.title('Family Status by Income Group', fontweight = 'bold')\n",
    "plt.show()"
   ]
  },
  {
   "cell_type": "code",
   "execution_count": 76,
   "id": "6ff436a1",
   "metadata": {},
   "outputs": [],
   "source": [
    "# Exporting bar_family_status_income\n",
    "\n",
    "bar_family_status_income.figure.savefig(os.path.join(path, '04 Analysis','Visualizations', 'bar_family_status_income.png'))"
   ]
  },
  {
   "cell_type": "markdown",
   "id": "ab892cf3",
   "metadata": {},
   "source": [
    "#### Observations:\n",
    "1. The majority of customers are married\n",
    "2. The patterns of marriage and divorced/widowed are almost the same, dominated by high-income people. This makes sense because both of these categories are mostly demonstrated by older people who may already have financial stability.And for married couples maybe they also have 2 incomes at the same time from both the wife and husband.\n",
    "3. In contrast, the pattern of being single and living with parents and siblings is almost the same. The majority of their income is in the low-moderate group."
   ]
  },
  {
   "cell_type": "code",
   "execution_count": 43,
   "id": "85ae9ee1",
   "metadata": {},
   "outputs": [
    {
     "data": {
      "text/html": [
       "<div>\n",
       "<style scoped>\n",
       "    .dataframe tbody tr th:only-of-type {\n",
       "        vertical-align: middle;\n",
       "    }\n",
       "\n",
       "    .dataframe tbody tr th {\n",
       "        vertical-align: top;\n",
       "    }\n",
       "\n",
       "    .dataframe thead th {\n",
       "        text-align: right;\n",
       "    }\n",
       "</style>\n",
       "<table border=\"1\" class=\"dataframe\">\n",
       "  <thead>\n",
       "    <tr style=\"text-align: right;\">\n",
       "      <th>family_status</th>\n",
       "      <th>divorced/widowed</th>\n",
       "      <th>living with parents and siblings</th>\n",
       "      <th>married</th>\n",
       "      <th>single</th>\n",
       "    </tr>\n",
       "    <tr>\n",
       "      <th>age_group</th>\n",
       "      <th></th>\n",
       "      <th></th>\n",
       "      <th></th>\n",
       "      <th></th>\n",
       "    </tr>\n",
       "  </thead>\n",
       "  <tbody>\n",
       "    <tr>\n",
       "      <th>30-39 years</th>\n",
       "      <td>0</td>\n",
       "      <td>0</td>\n",
       "      <td>3805151</td>\n",
       "      <td>1268600</td>\n",
       "    </tr>\n",
       "    <tr>\n",
       "      <th>40-49 years</th>\n",
       "      <td>0</td>\n",
       "      <td>0</td>\n",
       "      <td>3841539</td>\n",
       "      <td>1267698</td>\n",
       "    </tr>\n",
       "    <tr>\n",
       "      <th>50-59</th>\n",
       "      <td>0</td>\n",
       "      <td>0</td>\n",
       "      <td>3788012</td>\n",
       "      <td>1276163</td>\n",
       "    </tr>\n",
       "    <tr>\n",
       "      <th>60-69 years</th>\n",
       "      <td>1262445</td>\n",
       "      <td>0</td>\n",
       "      <td>3724819</td>\n",
       "      <td>0</td>\n",
       "    </tr>\n",
       "    <tr>\n",
       "      <th>70+ years</th>\n",
       "      <td>1509367</td>\n",
       "      <td>0</td>\n",
       "      <td>4570624</td>\n",
       "      <td>0</td>\n",
       "    </tr>\n",
       "    <tr>\n",
       "      <th>Less than 30 years</th>\n",
       "      <td>0</td>\n",
       "      <td>1550603</td>\n",
       "      <td>3026608</td>\n",
       "      <td>1513230</td>\n",
       "    </tr>\n",
       "  </tbody>\n",
       "</table>\n",
       "</div>"
      ],
      "text/plain": [
       "family_status       divorced/widowed  living with parents and siblings  \\\n",
       "age_group                                                                \n",
       "30-39 years                        0                                 0   \n",
       "40-49 years                        0                                 0   \n",
       "50-59                              0                                 0   \n",
       "60-69 years                  1262445                                 0   \n",
       "70+ years                    1509367                                 0   \n",
       "Less than 30 years                 0                           1550603   \n",
       "\n",
       "family_status       married   single  \n",
       "age_group                             \n",
       "30-39 years         3805151  1268600  \n",
       "40-49 years         3841539  1267698  \n",
       "50-59               3788012  1276163  \n",
       "60-69 years         3724819        0  \n",
       "70+ years           4570624        0  \n",
       "Less than 30 years  3026608  1513230  "
      ]
     },
     "execution_count": 43,
     "metadata": {},
     "output_type": "execute_result"
    }
   ],
   "source": [
    "crosstab_age_family_status = pd.crosstab(df_project_all['age_group'], df_project_all['family_status'], dropna = False)\n",
    "crosstab_age_family_status"
   ]
  },
  {
   "cell_type": "code",
   "execution_count": 44,
   "id": "33678637",
   "metadata": {},
   "outputs": [
    {
     "data": {
      "image/png": "[encoded data removed]",
      "text/plain": [
       "<Figure size 640x480 with 1 Axes>"
      ]
     },
     "metadata": {},
     "output_type": "display_data"
    }
   ],
   "source": [
    "# Creating a bar chart of age group divided by family group\n",
    "\n",
    "bar_age_family_status = crosstab_age_family_status.plot.barh()\n",
    "plt.ylabel('Age Group')\n",
    "plt.legend(loc='center left', bbox_to_anchor=(1, 0.5))\n",
    "plt.title('Age Group by Family Status', fontweight = 'bold')\n",
    "plt.show()"
   ]
  },
  {
   "cell_type": "code",
   "execution_count": 77,
   "id": "3066853b",
   "metadata": {},
   "outputs": [],
   "source": [
    "# Exporting bar_age_family_status\n",
    "\n",
    "bar_age_family_status.figure.savefig(os.path.join(path, '04 Analysis','Visualizations', 'bar_age_family_status.png'))"
   ]
  },
  {
   "cell_type": "markdown",
   "id": "f491bd17",
   "metadata": {},
   "source": [
    "#### Observations:\n",
    "1. Married couples are spread evenly across all age groups\n",
    "2. Now it even makes sense that young people (less than 30 years old) fall into the category of living with parents and siblings, therefore in the previous bar chart they seem to have a low-moderate income because maybe some of them are still students who didn't make much money"
   ]
  },
  {
   "cell_type": "code",
   "execution_count": 29,
   "id": "898d8d84",
   "metadata": {},
   "outputs": [
    {
     "data": {
      "text/html": [
       "<div>\n",
       "<style scoped>\n",
       "    .dataframe tbody tr th:only-of-type {\n",
       "        vertical-align: middle;\n",
       "    }\n",
       "\n",
       "    .dataframe tbody tr th {\n",
       "        vertical-align: top;\n",
       "    }\n",
       "\n",
       "    .dataframe thead tr th {\n",
       "        text-align: left;\n",
       "    }\n",
       "\n",
       "    .dataframe thead tr:last-of-type th {\n",
       "        text-align: right;\n",
       "    }\n",
       "</style>\n",
       "<table border=\"1\" class=\"dataframe\">\n",
       "  <thead>\n",
       "    <tr>\n",
       "      <th></th>\n",
       "      <th colspan=\"4\" halign=\"left\">dependants_number</th>\n",
       "    </tr>\n",
       "    <tr>\n",
       "      <th></th>\n",
       "      <th>mean</th>\n",
       "      <th>max</th>\n",
       "      <th>min</th>\n",
       "      <th>sum</th>\n",
       "    </tr>\n",
       "    <tr>\n",
       "      <th>family_status</th>\n",
       "      <th></th>\n",
       "      <th></th>\n",
       "      <th></th>\n",
       "      <th></th>\n",
       "    </tr>\n",
       "  </thead>\n",
       "  <tbody>\n",
       "    <tr>\n",
       "      <th>divorced/widowed</th>\n",
       "      <td>0.000000</td>\n",
       "      <td>0</td>\n",
       "      <td>0</td>\n",
       "      <td>0</td>\n",
       "    </tr>\n",
       "    <tr>\n",
       "      <th>living with parents and siblings</th>\n",
       "      <td>1.988546</td>\n",
       "      <td>3</td>\n",
       "      <td>1</td>\n",
       "      <td>3083446</td>\n",
       "    </tr>\n",
       "    <tr>\n",
       "      <th>married</th>\n",
       "      <td>2.003154</td>\n",
       "      <td>3</td>\n",
       "      <td>1</td>\n",
       "      <td>45585271</td>\n",
       "    </tr>\n",
       "    <tr>\n",
       "      <th>single</th>\n",
       "      <td>0.000000</td>\n",
       "      <td>0</td>\n",
       "      <td>0</td>\n",
       "      <td>0</td>\n",
       "    </tr>\n",
       "  </tbody>\n",
       "</table>\n",
       "</div>"
      ],
      "text/plain": [
       "                                 dependants_number                  \n",
       "                                              mean max min       sum\n",
       "family_status                                                       \n",
       "divorced/widowed                          0.000000   0   0         0\n",
       "living with parents and siblings          1.988546   3   1   3083446\n",
       "married                                   2.003154   3   1  45585271\n",
       "single                                    0.000000   0   0         0"
      ]
     },
     "execution_count": 29,
     "metadata": {},
     "output_type": "execute_result"
    }
   ],
   "source": [
    "df_project_all.groupby('family_status').agg({'dependants_number' : ['mean', 'max', 'min', 'sum']})"
   ]
  },
  {
   "cell_type": "code",
   "execution_count": 36,
   "id": "c264bd44",
   "metadata": {},
   "outputs": [],
   "source": [
    "family_profile = []\n",
    "\n",
    "for value in df_project_all['dependants_number']:\n",
    "    if value == 0:\n",
    "        family_profile.append('independent')\n",
    "    else:\n",
    "        family_profile.append('family')"
   ]
  },
  {
   "cell_type": "code",
   "execution_count": 37,
   "id": "34f3503d",
   "metadata": {},
   "outputs": [],
   "source": [
    "df_project_all['family_profile'] = family_profile"
   ]
  },
  {
   "cell_type": "code",
   "execution_count": 38,
   "id": "9099f723",
   "metadata": {},
   "outputs": [
    {
     "name": "stdout",
     "output_type": "stream",
     "text": [
      "<class 'pandas.core.frame.DataFrame'>\n",
      "Int64Index: 32404859 entries, 0 to 32404858\n",
      "Data columns (total 36 columns):\n",
      " #   Column                  Dtype   \n",
      "---  ------                  -----   \n",
      " 0   order_id                int64   \n",
      " 1   user_id                 object  \n",
      " 2   order_number            int64   \n",
      " 3   orders_day_of_week      int64   \n",
      " 4   order_hour_of_day       int64   \n",
      " 5   days_since_prior_order  float64 \n",
      " 6   product_id              int64   \n",
      " 7   add_to_cart_order       int64   \n",
      " 8   reordered               int64   \n",
      " 9   product_name            object  \n",
      " 10  aisle_id                int64   \n",
      " 11  department_id           int64   \n",
      " 12  prices                  float64 \n",
      " 13  _merge                  category\n",
      " 14  price_range_loc         object  \n",
      " 15  busiest_day             object  \n",
      " 16  busiest_days            object  \n",
      " 17  busiest_period_of_day   object  \n",
      " 18  max_order               int64   \n",
      " 19  loyalty_flag            object  \n",
      " 20  average_price           float64 \n",
      " 21  spending_flag           object  \n",
      " 22  median_prior_orders     float64 \n",
      " 23  order_frequency_flag    object  \n",
      " 24  gender                  object  \n",
      " 25  state                   object  \n",
      " 26  age                     int64   \n",
      " 27  date_joined             object  \n",
      " 28  dependants_number       int64   \n",
      " 29  family_status           object  \n",
      " 30  income                  int64   \n",
      " 31  age_group               object  \n",
      " 32  region                  object  \n",
      " 33  income_group            object  \n",
      " 34  department              object  \n",
      " 35  family_profile          object  \n",
      "dtypes: category(1), float64(4), int64(13), object(18)\n",
      "memory usage: 8.7+ GB\n"
     ]
    }
   ],
   "source": [
    "df_project_all.info()"
   ]
  },
  {
   "cell_type": "code",
   "execution_count": 39,
   "id": "a4cd10fb",
   "metadata": {},
   "outputs": [
    {
     "data": {
      "text/plain": [
       "family         24307356\n",
       "independent     8097503\n",
       "Name: family_profile, dtype: int64"
      ]
     },
     "execution_count": 39,
     "metadata": {},
     "output_type": "execute_result"
    }
   ],
   "source": [
    "df_project_all['family_profile'].value_counts()"
   ]
  },
  {
   "cell_type": "code",
   "execution_count": 40,
   "id": "97d96771",
   "metadata": {},
   "outputs": [
    {
     "data": {
      "text/html": [
       "<div>\n",
       "<style scoped>\n",
       "    .dataframe tbody tr th:only-of-type {\n",
       "        vertical-align: middle;\n",
       "    }\n",
       "\n",
       "    .dataframe tbody tr th {\n",
       "        vertical-align: top;\n",
       "    }\n",
       "\n",
       "    .dataframe thead th {\n",
       "        text-align: right;\n",
       "    }\n",
       "</style>\n",
       "<table border=\"1\" class=\"dataframe\">\n",
       "  <thead>\n",
       "    <tr style=\"text-align: right;\">\n",
       "      <th>family_status</th>\n",
       "      <th>divorced/widowed</th>\n",
       "      <th>living with parents and siblings</th>\n",
       "      <th>married</th>\n",
       "      <th>single</th>\n",
       "    </tr>\n",
       "    <tr>\n",
       "      <th>family_profile</th>\n",
       "      <th></th>\n",
       "      <th></th>\n",
       "      <th></th>\n",
       "      <th></th>\n",
       "    </tr>\n",
       "  </thead>\n",
       "  <tbody>\n",
       "    <tr>\n",
       "      <th>family</th>\n",
       "      <td>0</td>\n",
       "      <td>1550603</td>\n",
       "      <td>22756753</td>\n",
       "      <td>0</td>\n",
       "    </tr>\n",
       "    <tr>\n",
       "      <th>independent</th>\n",
       "      <td>2771812</td>\n",
       "      <td>0</td>\n",
       "      <td>0</td>\n",
       "      <td>5325691</td>\n",
       "    </tr>\n",
       "  </tbody>\n",
       "</table>\n",
       "</div>"
      ],
      "text/plain": [
       "family_status   divorced/widowed  living with parents and siblings   married  \\\n",
       "family_profile                                                                 \n",
       "family                         0                           1550603  22756753   \n",
       "independent              2771812                                 0         0   \n",
       "\n",
       "family_status    single  \n",
       "family_profile           \n",
       "family                0  \n",
       "independent     5325691  "
      ]
     },
     "execution_count": 40,
     "metadata": {},
     "output_type": "execute_result"
    }
   ],
   "source": [
    "# Create a crosstab between the 'family_profile' and 'family_status' column\n",
    "\n",
    "crosstab_fam_status_fam_profile = pd.crosstab(df_project_all['family_profile'], df_project_all['family_status'], dropna = False)\n",
    "crosstab_fam_status_fam_profile "
   ]
  },
  {
   "cell_type": "code",
   "execution_count": 41,
   "id": "9a992937",
   "metadata": {},
   "outputs": [
    {
     "data": {
      "image/png": "[encoded data removed]",
      "text/plain": [
       "<Figure size 640x480 with 1 Axes>"
      ]
     },
     "metadata": {},
     "output_type": "display_data"
    }
   ],
   "source": [
    "# Creating a bar chart of family profile divided by family status\n",
    "\n",
    "bar_fam_status_fam_profile  = crosstab_fam_status_fam_profile .plot.bar()\n",
    "plt.ylabel('Family Profile')\n",
    "plt.legend()\n",
    "plt.title('Family Profile by Family Status', fontweight = 'bold')\n",
    "plt.show()"
   ]
  },
  {
   "cell_type": "code",
   "execution_count": 78,
   "id": "e5d8fa26",
   "metadata": {},
   "outputs": [],
   "source": [
    "# Exporting bar_fam_status_fam_profile\n",
    "\n",
    "bar_fam_status_fam_profile.figure.savefig(os.path.join(path, '04 Analysis','Visualizations', 'bar_fam_status_fam_profile.png'))"
   ]
  },
  {
   "cell_type": "code",
   "execution_count": 45,
   "id": "9f15272b",
   "metadata": {},
   "outputs": [
    {
     "data": {
      "text/html": [
       "<div>\n",
       "<style scoped>\n",
       "    .dataframe tbody tr th:only-of-type {\n",
       "        vertical-align: middle;\n",
       "    }\n",
       "\n",
       "    .dataframe tbody tr th {\n",
       "        vertical-align: top;\n",
       "    }\n",
       "\n",
       "    .dataframe thead th {\n",
       "        text-align: right;\n",
       "    }\n",
       "</style>\n",
       "<table border=\"1\" class=\"dataframe\">\n",
       "  <thead>\n",
       "    <tr style=\"text-align: right;\">\n",
       "      <th>loyalty_flag</th>\n",
       "      <th>Loyal customer</th>\n",
       "      <th>New customer</th>\n",
       "      <th>Regular customer</th>\n",
       "    </tr>\n",
       "    <tr>\n",
       "      <th>income_group</th>\n",
       "      <th></th>\n",
       "      <th></th>\n",
       "      <th></th>\n",
       "    </tr>\n",
       "  </thead>\n",
       "  <tbody>\n",
       "    <tr>\n",
       "      <th>High-income</th>\n",
       "      <td>2610705</td>\n",
       "      <td>1510039</td>\n",
       "      <td>3980406</td>\n",
       "    </tr>\n",
       "    <tr>\n",
       "      <th>Low-income</th>\n",
       "      <td>2469238</td>\n",
       "      <td>1738745</td>\n",
       "      <td>3893231</td>\n",
       "    </tr>\n",
       "    <tr>\n",
       "      <th>Moderate-income</th>\n",
       "      <td>2628589</td>\n",
       "      <td>1488406</td>\n",
       "      <td>3984212</td>\n",
       "    </tr>\n",
       "    <tr>\n",
       "      <th>Wealthy</th>\n",
       "      <td>2575561</td>\n",
       "      <td>1506800</td>\n",
       "      <td>4018927</td>\n",
       "    </tr>\n",
       "  </tbody>\n",
       "</table>\n",
       "</div>"
      ],
      "text/plain": [
       "loyalty_flag     Loyal customer  New customer  Regular customer\n",
       "income_group                                                   \n",
       "High-income             2610705       1510039           3980406\n",
       "Low-income              2469238       1738745           3893231\n",
       "Moderate-income         2628589       1488406           3984212\n",
       "Wealthy                 2575561       1506800           4018927"
      ]
     },
     "execution_count": 45,
     "metadata": {},
     "output_type": "execute_result"
    }
   ],
   "source": [
    "# Create a crosstab between the 'income_group' and 'loyalty_flag' column\n",
    "\n",
    "crosstab_income_loyalty = pd.crosstab(df_project_all['income_group'], df_project_all['loyalty_flag'], dropna = False)\n",
    "crosstab_income_loyalty"
   ]
  },
  {
   "cell_type": "code",
   "execution_count": 48,
   "id": "16f79032",
   "metadata": {},
   "outputs": [
    {
     "data": {
      "image/png": "[encoded data removed]",
      "text/plain": [
       "<Figure size 640x480 with 1 Axes>"
      ]
     },
     "metadata": {},
     "output_type": "display_data"
    }
   ],
   "source": [
    "# Creating a bar chart of income group divided by loyalty flag\n",
    "\n",
    "bar_income_loyalty = crosstab_income_loyalty .plot.bar()\n",
    "plt.ylabel('Income Group')\n",
    "plt.legend(loc='center left', bbox_to_anchor=(1, 0.5))\n",
    "plt.title('Income Group by Loyalty Flag', fontweight = 'bold')\n",
    "plt.show()"
   ]
  },
  {
   "cell_type": "code",
   "execution_count": 79,
   "id": "2211b236",
   "metadata": {},
   "outputs": [],
   "source": [
    "# Exporting bar_income_loyalty\n",
    "\n",
    "bar_income_loyalty.figure.savefig(os.path.join(path, '04 Analysis','Visualizations', 'bar_income_loyalty.png'))"
   ]
  },
  {
   "cell_type": "markdown",
   "id": "a966c7c6",
   "metadata": {},
   "source": [
    "#### Observation: It seems like income groups do not affect the level of loyaliness since all of them have the same patterns\n"
   ]
  },
  {
   "cell_type": "code",
   "execution_count": 49,
   "id": "c79522d1",
   "metadata": {},
   "outputs": [
    {
     "data": {
      "text/html": [
       "<div>\n",
       "<style scoped>\n",
       "    .dataframe tbody tr th:only-of-type {\n",
       "        vertical-align: middle;\n",
       "    }\n",
       "\n",
       "    .dataframe tbody tr th {\n",
       "        vertical-align: top;\n",
       "    }\n",
       "\n",
       "    .dataframe thead th {\n",
       "        text-align: right;\n",
       "    }\n",
       "</style>\n",
       "<table border=\"1\" class=\"dataframe\">\n",
       "  <thead>\n",
       "    <tr style=\"text-align: right;\">\n",
       "      <th>family_status</th>\n",
       "      <th>divorced/widowed</th>\n",
       "      <th>living with parents and siblings</th>\n",
       "      <th>married</th>\n",
       "      <th>single</th>\n",
       "    </tr>\n",
       "    <tr>\n",
       "      <th>department</th>\n",
       "      <th></th>\n",
       "      <th></th>\n",
       "      <th></th>\n",
       "      <th></th>\n",
       "    </tr>\n",
       "  </thead>\n",
       "  <tbody>\n",
       "    <tr>\n",
       "      <th>alcohol</th>\n",
       "      <td>12615</td>\n",
       "      <td>8896</td>\n",
       "      <td>105682</td>\n",
       "      <td>26503</td>\n",
       "    </tr>\n",
       "    <tr>\n",
       "      <th>babies</th>\n",
       "      <td>35326</td>\n",
       "      <td>20146</td>\n",
       "      <td>297162</td>\n",
       "      <td>71168</td>\n",
       "    </tr>\n",
       "    <tr>\n",
       "      <th>bakery</th>\n",
       "      <td>100401</td>\n",
       "      <td>56142</td>\n",
       "      <td>821881</td>\n",
       "      <td>194004</td>\n",
       "    </tr>\n",
       "    <tr>\n",
       "      <th>beverages</th>\n",
       "      <td>231025</td>\n",
       "      <td>124629</td>\n",
       "      <td>1889052</td>\n",
       "      <td>443417</td>\n",
       "    </tr>\n",
       "    <tr>\n",
       "      <th>breakfast</th>\n",
       "      <td>59498</td>\n",
       "      <td>34731</td>\n",
       "      <td>493725</td>\n",
       "      <td>115079</td>\n",
       "    </tr>\n",
       "    <tr>\n",
       "      <th>bulk</th>\n",
       "      <td>2765</td>\n",
       "      <td>1674</td>\n",
       "      <td>24621</td>\n",
       "      <td>5513</td>\n",
       "    </tr>\n",
       "    <tr>\n",
       "      <th>canned goods</th>\n",
       "      <td>89259</td>\n",
       "      <td>51190</td>\n",
       "      <td>752030</td>\n",
       "      <td>175579</td>\n",
       "    </tr>\n",
       "    <tr>\n",
       "      <th>dairy eggs</th>\n",
       "      <td>461911</td>\n",
       "      <td>260787</td>\n",
       "      <td>3788598</td>\n",
       "      <td>887451</td>\n",
       "    </tr>\n",
       "    <tr>\n",
       "      <th>deli</th>\n",
       "      <td>90818</td>\n",
       "      <td>50415</td>\n",
       "      <td>735689</td>\n",
       "      <td>174327</td>\n",
       "    </tr>\n",
       "    <tr>\n",
       "      <th>dry goods pasta</th>\n",
       "      <td>74220</td>\n",
       "      <td>41702</td>\n",
       "      <td>609663</td>\n",
       "      <td>141042</td>\n",
       "    </tr>\n",
       "    <tr>\n",
       "      <th>frozen</th>\n",
       "      <td>193575</td>\n",
       "      <td>108533</td>\n",
       "      <td>1569050</td>\n",
       "      <td>363585</td>\n",
       "    </tr>\n",
       "    <tr>\n",
       "      <th>household</th>\n",
       "      <td>61805</td>\n",
       "      <td>35226</td>\n",
       "      <td>522667</td>\n",
       "      <td>118968</td>\n",
       "    </tr>\n",
       "    <tr>\n",
       "      <th>international</th>\n",
       "      <td>23060</td>\n",
       "      <td>13074</td>\n",
       "      <td>188466</td>\n",
       "      <td>44653</td>\n",
       "    </tr>\n",
       "    <tr>\n",
       "      <th>meat seafood</th>\n",
       "      <td>60477</td>\n",
       "      <td>33981</td>\n",
       "      <td>500862</td>\n",
       "      <td>113607</td>\n",
       "    </tr>\n",
       "    <tr>\n",
       "      <th>missing</th>\n",
       "      <td>5493</td>\n",
       "      <td>3571</td>\n",
       "      <td>48486</td>\n",
       "      <td>11595</td>\n",
       "    </tr>\n",
       "    <tr>\n",
       "      <th>other</th>\n",
       "      <td>3002</td>\n",
       "      <td>1911</td>\n",
       "      <td>25205</td>\n",
       "      <td>6173</td>\n",
       "    </tr>\n",
       "    <tr>\n",
       "      <th>pantry</th>\n",
       "      <td>159981</td>\n",
       "      <td>90272</td>\n",
       "      <td>1318340</td>\n",
       "      <td>306776</td>\n",
       "    </tr>\n",
       "    <tr>\n",
       "      <th>personal care</th>\n",
       "      <td>38542</td>\n",
       "      <td>21312</td>\n",
       "      <td>314254</td>\n",
       "      <td>73464</td>\n",
       "    </tr>\n",
       "    <tr>\n",
       "      <th>pets</th>\n",
       "      <td>8409</td>\n",
       "      <td>5620</td>\n",
       "      <td>67513</td>\n",
       "      <td>16174</td>\n",
       "    </tr>\n",
       "    <tr>\n",
       "      <th>produce</th>\n",
       "      <td>812834</td>\n",
       "      <td>449628</td>\n",
       "      <td>6654218</td>\n",
       "      <td>1562611</td>\n",
       "    </tr>\n",
       "    <tr>\n",
       "      <th>snacks</th>\n",
       "      <td>246796</td>\n",
       "      <td>137163</td>\n",
       "      <td>2029589</td>\n",
       "      <td>474002</td>\n",
       "    </tr>\n",
       "  </tbody>\n",
       "</table>\n",
       "</div>"
      ],
      "text/plain": [
       "family_status    divorced/widowed  living with parents and siblings  married  \\\n",
       "department                                                                     \n",
       "alcohol                     12615                              8896   105682   \n",
       "babies                      35326                             20146   297162   \n",
       "bakery                     100401                             56142   821881   \n",
       "beverages                  231025                            124629  1889052   \n",
       "breakfast                   59498                             34731   493725   \n",
       "bulk                         2765                              1674    24621   \n",
       "canned goods                89259                             51190   752030   \n",
       "dairy eggs                 461911                            260787  3788598   \n",
       "deli                        90818                             50415   735689   \n",
       "dry goods pasta             74220                             41702   609663   \n",
       "frozen                     193575                            108533  1569050   \n",
       "household                   61805                             35226   522667   \n",
       "international               23060                             13074   188466   \n",
       "meat seafood                60477                             33981   500862   \n",
       "missing                      5493                              3571    48486   \n",
       "other                        3002                              1911    25205   \n",
       "pantry                     159981                             90272  1318340   \n",
       "personal care               38542                             21312   314254   \n",
       "pets                         8409                              5620    67513   \n",
       "produce                    812834                            449628  6654218   \n",
       "snacks                     246796                            137163  2029589   \n",
       "\n",
       "family_status     single  \n",
       "department                \n",
       "alcohol            26503  \n",
       "babies             71168  \n",
       "bakery            194004  \n",
       "beverages         443417  \n",
       "breakfast         115079  \n",
       "bulk                5513  \n",
       "canned goods      175579  \n",
       "dairy eggs        887451  \n",
       "deli              174327  \n",
       "dry goods pasta   141042  \n",
       "frozen            363585  \n",
       "household         118968  \n",
       "international      44653  \n",
       "meat seafood      113607  \n",
       "missing            11595  \n",
       "other               6173  \n",
       "pantry            306776  \n",
       "personal care      73464  \n",
       "pets               16174  \n",
       "produce          1562611  \n",
       "snacks            474002  "
      ]
     },
     "execution_count": 49,
     "metadata": {},
     "output_type": "execute_result"
    }
   ],
   "source": [
    "# Create a crosstab between the 'department' and 'family_status' column\n",
    "\n",
    "crosstab_department_fam_status = pd.crosstab(df_project_all['department'], df_project_all['family_status'], dropna = False)\n",
    "crosstab_department_fam_status"
   ]
  },
  {
   "cell_type": "code",
   "execution_count": 51,
   "id": "1d9b532a",
   "metadata": {},
   "outputs": [
    {
     "data": {
      "image/png": "[encoded data removed]",
      "text/plain": [
       "<Figure size 640x480 with 1 Axes>"
      ]
     },
     "metadata": {},
     "output_type": "display_data"
    }
   ],
   "source": [
    "# Creating a bar chart of department divided by family status\n",
    "\n",
    "bar_department_fam_status = crosstab_department_fam_status.plot.barh(stacked = True)\n",
    "plt.ylabel('Department')\n",
    "plt.legend(loc='center left', bbox_to_anchor=(1, 0.5))\n",
    "plt.title('Department Grouped by Family Status', fontweight = 'bold')\n",
    "plt.show()"
   ]
  },
  {
   "cell_type": "code",
   "execution_count": 80,
   "id": "7c9ec072",
   "metadata": {},
   "outputs": [],
   "source": [
    "# Exporting bar_department_fam_status\n",
    "\n",
    "bar_department_fam_status.figure.savefig(os.path.join(path, '04 Analysis','Visualizations', 'bar_department_fam_status.png'))"
   ]
  },
  {
   "cell_type": "markdown",
   "id": "98ea3c26",
   "metadata": {},
   "source": [
    "#### Observation: Married couples dominate all departments"
   ]
  },
  {
   "cell_type": "markdown",
   "id": "bba2ea62",
   "metadata": {},
   "source": [
    "### 5.5 Profiling the Ordering Time"
   ]
  },
  {
   "cell_type": "code",
   "execution_count": 55,
   "id": "24bdc440",
   "metadata": {},
   "outputs": [
    {
     "data": {
      "text/plain": [
       "Regularly days    12916111\n",
       "Busiest days      11864412\n",
       "Slowest days       7624336\n",
       "Name: busiest_days, dtype: int64"
      ]
     },
     "execution_count": 55,
     "metadata": {},
     "output_type": "execute_result"
    }
   ],
   "source": [
    "df_project_all['busiest_days'].value_counts()"
   ]
  },
  {
   "cell_type": "code",
   "execution_count": 56,
   "id": "cb3df901",
   "metadata": {},
   "outputs": [
    {
     "data": {
      "text/plain": [
       "Regularly busy    22416875\n",
       "Busiest day        6204182\n",
       "Least busy         3783802\n",
       "Name: busiest_day, dtype: int64"
      ]
     },
     "execution_count": 56,
     "metadata": {},
     "output_type": "execute_result"
    }
   ],
   "source": [
    "df_project_all['busiest_day'].value_counts()"
   ]
  },
  {
   "cell_type": "code",
   "execution_count": 59,
   "id": "7656baa4",
   "metadata": {},
   "outputs": [
    {
     "data": {
      "text/plain": [
       "0    6204182\n",
       "1    5660230\n",
       "6    4496490\n",
       "2    4213830\n",
       "5    4205791\n",
       "3    3840534\n",
       "4    3783802\n",
       "Name: orders_day_of_week, dtype: int64"
      ]
     },
     "execution_count": 59,
     "metadata": {},
     "output_type": "execute_result"
    }
   ],
   "source": [
    "df_project_all['orders_day_of_week'].value_counts()"
   ]
  },
  {
   "cell_type": "code",
   "execution_count": 67,
   "id": "81d876ae",
   "metadata": {},
   "outputs": [
    {
     "data": {
      "text/plain": [
       "Text(0.5, 1.0, 'Order Time By Day')"
      ]
     },
     "execution_count": 67,
     "metadata": {},
     "output_type": "execute_result"
    },
    {
     "data": {
      "image/png": "[encoded data removed]",
      "text/plain": [
       "<Figure size 640x480 with 1 Axes>"
      ]
     },
     "metadata": {},
     "output_type": "display_data"
    }
   ],
   "source": [
    "# Creating a bar chart of orders_day_of_week\n",
    "\n",
    "bar_orders_day = df_project_all['orders_day_of_week'].value_counts().plot.bar()\n",
    "plt.title('Order Time By Day', fontweight = 'bold')"
   ]
  },
  {
   "cell_type": "code",
   "execution_count": 81,
   "id": "763943d5",
   "metadata": {},
   "outputs": [],
   "source": [
    "# Exporting bar_orders_day\n",
    "\n",
    "bar_orders_day.figure.savefig(os.path.join(path, '04 Analysis','Visualizations', 'bar_orders_day.png'))"
   ]
  },
  {
   "cell_type": "markdown",
   "id": "ba41e180",
   "metadata": {},
   "source": [
    "#### Observation: majority of purchase time falls on weekends: (0 --> Saturday and 1 --> Sunday)"
   ]
  },
  {
   "cell_type": "code",
   "execution_count": 71,
   "id": "afefed30",
   "metadata": {},
   "outputs": [
    {
     "data": {
      "text/plain": [
       "Text(0.5, 1.0, 'Order Time By Day')"
      ]
     },
     "execution_count": 71,
     "metadata": {},
     "output_type": "execute_result"
    },
    {
     "data": {
      "image/png": "[encoded data removed]",
      "text/plain": [
       "<Figure size 640x480 with 1 Axes>"
      ]
     },
     "metadata": {},
     "output_type": "display_data"
    }
   ],
   "source": [
    "# Creating a bar chart of order_hour_of_day\n",
    "\n",
    "bar_order_hour = df_project_all['order_hour_of_day'].value_counts().sort_index().plot.bar()\n",
    "plt.title('Order Time By Day', fontweight = 'bold')"
   ]
  },
  {
   "cell_type": "code",
   "execution_count": 82,
   "id": "e3fd4970",
   "metadata": {},
   "outputs": [],
   "source": [
    "# Exporting bar_order_hour\n",
    "\n",
    "bar_order_hour.figure.savefig(os.path.join(path, '04 Analysis','Visualizations', 'bar_order_hour.png'))"
   ]
  },
  {
   "cell_type": "markdown",
   "id": "01f3afa8",
   "metadata": {},
   "source": [
    "#### Observation: Peak purchasing time falls during business hours from 9am to 5pm"
   ]
  },
  {
   "cell_type": "code",
   "execution_count": 84,
   "id": "44aa954c",
   "metadata": {},
   "outputs": [
    {
     "data": {
      "text/plain": [
       "(32404859, 36)"
      ]
     },
     "execution_count": 84,
     "metadata": {},
     "output_type": "execute_result"
    }
   ],
   "source": [
    "df_project_all.shape"
   ]
  },
  {
   "cell_type": "code",
   "execution_count": 86,
   "id": "73604829",
   "metadata": {},
   "outputs": [
    {
     "data": {
      "text/plain": [
       "Index(['order_id', 'user_id', 'order_number', 'orders_day_of_week',\n",
       "       'order_hour_of_day', 'days_since_prior_order', 'product_id',\n",
       "       'add_to_cart_order', 'reordered', 'product_name', 'aisle_id',\n",
       "       'department_id', 'prices', '_merge', 'price_range_loc', 'busiest_day',\n",
       "       'busiest_days', 'busiest_period_of_day', 'max_order', 'loyalty_flag',\n",
       "       'average_price', 'spending_flag', 'median_prior_orders',\n",
       "       'order_frequency_flag', 'gender', 'state', 'age', 'date_joined',\n",
       "       'dependants_number', 'family_status', 'income', 'age_group', 'region',\n",
       "       'income_group', 'department', 'family_profile'],\n",
       "      dtype='object')"
      ]
     },
     "execution_count": 86,
     "metadata": {},
     "output_type": "execute_result"
    }
   ],
   "source": [
    "df_project_all.columns"
   ]
  },
  {
   "cell_type": "code",
   "execution_count": 100,
   "id": "6e8a38c9",
   "metadata": {},
   "outputs": [
    {
     "ename": "OSError",
     "evalue": "[Errno 28] No space left on device",
     "output_type": "error",
     "traceback": [
      "\u001b[1;31m---------------------------------------------------------------------------\u001b[0m",
      "\u001b[1;31mOSError\u001b[0m                                   Traceback (most recent call last)",
      "Cell \u001b[1;32mIn[100], line 1\u001b[0m\n\u001b[1;32m----> 1\u001b[0m \u001b[43mdf_project_all\u001b[49m\u001b[38;5;241;43m.\u001b[39;49m\u001b[43mto_pickle\u001b[49m\u001b[43m(\u001b[49m\u001b[43mos\u001b[49m\u001b[38;5;241;43m.\u001b[39;49m\u001b[43mpath\u001b[49m\u001b[38;5;241;43m.\u001b[39;49m\u001b[43mjoin\u001b[49m\u001b[43m(\u001b[49m\u001b[43mpath\u001b[49m\u001b[43m,\u001b[49m\u001b[43m \u001b[49m\u001b[38;5;124;43m'\u001b[39;49m\u001b[38;5;124;43m02 Data\u001b[39;49m\u001b[38;5;124;43m'\u001b[39;49m\u001b[43m,\u001b[49m\u001b[38;5;124;43m'\u001b[39;49m\u001b[38;5;124;43mPrepared Data\u001b[39;49m\u001b[38;5;124;43m'\u001b[39;49m\u001b[43m,\u001b[49m\u001b[43m \u001b[49m\u001b[38;5;124;43m'\u001b[39;49m\u001b[38;5;124;43mdataset_final.pkl\u001b[39;49m\u001b[38;5;124;43m'\u001b[39;49m\u001b[43m)\u001b[49m\u001b[43m)\u001b[49m\n",
      "File \u001b[1;32m~\\anaconda3\\lib\\site-packages\\pandas\\core\\generic.py:3064\u001b[0m, in \u001b[0;36mNDFrame.to_pickle\u001b[1;34m(self, path, compression, protocol, storage_options)\u001b[0m\n\u001b[0;32m   3012\u001b[0m \u001b[38;5;124;03m\"\"\"\u001b[39;00m\n\u001b[0;32m   3013\u001b[0m \u001b[38;5;124;03mPickle (serialize) object to file.\u001b[39;00m\n\u001b[0;32m   3014\u001b[0m \n\u001b[1;32m   (...)\u001b[0m\n\u001b[0;32m   3060\u001b[0m \u001b[38;5;124;03m4    4    9\u001b[39;00m\n\u001b[0;32m   3061\u001b[0m \u001b[38;5;124;03m\"\"\"\u001b[39;00m  \u001b[38;5;66;03m# noqa: E501\u001b[39;00m\n\u001b[0;32m   3062\u001b[0m \u001b[38;5;28;01mfrom\u001b[39;00m \u001b[38;5;21;01mpandas\u001b[39;00m\u001b[38;5;21;01m.\u001b[39;00m\u001b[38;5;21;01mio\u001b[39;00m\u001b[38;5;21;01m.\u001b[39;00m\u001b[38;5;21;01mpickle\u001b[39;00m \u001b[38;5;28;01mimport\u001b[39;00m to_pickle\n\u001b[1;32m-> 3064\u001b[0m \u001b[43mto_pickle\u001b[49m\u001b[43m(\u001b[49m\n\u001b[0;32m   3065\u001b[0m \u001b[43m    \u001b[49m\u001b[38;5;28;43mself\u001b[39;49m\u001b[43m,\u001b[49m\n\u001b[0;32m   3066\u001b[0m \u001b[43m    \u001b[49m\u001b[43mpath\u001b[49m\u001b[43m,\u001b[49m\n\u001b[0;32m   3067\u001b[0m \u001b[43m    \u001b[49m\u001b[43mcompression\u001b[49m\u001b[38;5;241;43m=\u001b[39;49m\u001b[43mcompression\u001b[49m\u001b[43m,\u001b[49m\n\u001b[0;32m   3068\u001b[0m \u001b[43m    \u001b[49m\u001b[43mprotocol\u001b[49m\u001b[38;5;241;43m=\u001b[39;49m\u001b[43mprotocol\u001b[49m\u001b[43m,\u001b[49m\n\u001b[0;32m   3069\u001b[0m \u001b[43m    \u001b[49m\u001b[43mstorage_options\u001b[49m\u001b[38;5;241;43m=\u001b[39;49m\u001b[43mstorage_options\u001b[49m\u001b[43m,\u001b[49m\n\u001b[0;32m   3070\u001b[0m \u001b[43m\u001b[49m\u001b[43m)\u001b[49m\n",
      "File \u001b[1;32m~\\anaconda3\\lib\\site-packages\\pandas\\io\\pickle.py:112\u001b[0m, in \u001b[0;36mto_pickle\u001b[1;34m(obj, filepath_or_buffer, compression, protocol, storage_options)\u001b[0m\n\u001b[0;32m    109\u001b[0m     handles\u001b[38;5;241m.\u001b[39mhandle\u001b[38;5;241m.\u001b[39mwrite(pickle\u001b[38;5;241m.\u001b[39mdumps(obj, protocol\u001b[38;5;241m=\u001b[39mprotocol))\n\u001b[0;32m    110\u001b[0m \u001b[38;5;28;01melse\u001b[39;00m:\n\u001b[0;32m    111\u001b[0m     \u001b[38;5;66;03m# letting pickle write directly to the buffer is more memory-efficient\u001b[39;00m\n\u001b[1;32m--> 112\u001b[0m     \u001b[43mpickle\u001b[49m\u001b[38;5;241;43m.\u001b[39;49m\u001b[43mdump\u001b[49m\u001b[43m(\u001b[49m\u001b[43mobj\u001b[49m\u001b[43m,\u001b[49m\u001b[43m \u001b[49m\u001b[43mhandles\u001b[49m\u001b[38;5;241;43m.\u001b[39;49m\u001b[43mhandle\u001b[49m\u001b[43m,\u001b[49m\u001b[43m \u001b[49m\u001b[43mprotocol\u001b[49m\u001b[38;5;241;43m=\u001b[39;49m\u001b[43mprotocol\u001b[49m\u001b[43m)\u001b[49m\n",
      "\u001b[1;31mOSError\u001b[0m: [Errno 28] No space left on device"
     ]
    }
   ],
   "source": [
    "df_project_all.to_pickle(os.path.join(path, '02 Data','Prepared Data', 'dataset_final.pkl'))"
   ]
  },
  {
   "cell_type": "code",
   "execution_count": null,
   "id": "0283b951",
   "metadata": {},
   "outputs": [],
   "source": []
  },
  {
   "cell_type": "code",
   "execution_count": null,
   "id": "a92e8133",
   "metadata": {},
   "outputs": [],
   "source": []
  },
  {
   "cell_type": "code",
   "execution_count": null,
   "id": "75d4fe3a",
   "metadata": {},
   "outputs": [],
   "source": []
  },
  {
   "cell_type": "code",
   "execution_count": null,
   "id": "721a0ca9",
   "metadata": {},
   "outputs": [],
   "source": []
  },
  {
   "cell_type": "code",
   "execution_count": null,
   "id": "d803a81c",
   "metadata": {},
   "outputs": [],
   "source": []
  },
  {
   "cell_type": "code",
   "execution_count": null,
   "id": "6cee1560",
   "metadata": {},
   "outputs": [],
   "source": []
  },
  {
   "cell_type": "code",
   "execution_count": null,
   "id": "5015fca8",
   "metadata": {},
   "outputs": [],
   "source": []
  }
 ],
 "metadata": {
  "kernelspec": {
   "display_name": "Python 3 (ipykernel)",
   "language": "python",
   "name": "python3"
  },
  "language_info": {
   "codemirror_mode": {
    "name": "ipython",
    "version": 3
   },
   "file_extension": ".py",
   "mimetype": "text/x-python",
   "name": "python",
   "nbconvert_exporter": "python",
   "pygments_lexer": "ipython3",
   "version": "3.10.9"
  }
 },
 "nbformat": 4,
 "nbformat_minor": 5
}
